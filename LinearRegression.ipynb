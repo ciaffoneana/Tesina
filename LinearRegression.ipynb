{
 "cells": [
  {
   "cell_type": "code",
   "execution_count": 1,
   "id": "0beb5cff-56fe-4156-84f8-232ba713a403",
   "metadata": {},
   "outputs": [],
   "source": [
    "#Imports\n",
    "import numpy as np\n",
    "import pandas as pd\n",
    "import seaborn as sns\n",
    "import matplotlib.pyplot as plt\n",
    "import statsmodels.api as sm\n",
    "\n",
    "from sklearn.model_selection import train_test_split\n",
    "from sklearn.linear_model import LogisticRegression\n",
    "from sklearn.metrics import confusion_matrix, accuracy_score, classification_report\n",
    "from sklearn.metrics import roc_curve\n",
    "from sklearn.metrics import roc_auc_score\n",
    "from sklearn.preprocessing import StandardScaler\n"
   ]
  },
  {
   "cell_type": "code",
   "execution_count": 2,
   "id": "3cb013fe-7613-4766-b0f4-f23badfffaf7",
   "metadata": {},
   "outputs": [],
   "source": [
    "# Import data from CSV file\n",
    "data = pd.read_excel('churn.xlsx')"
   ]
  },
  {
   "cell_type": "code",
   "execution_count": 3,
   "id": "35859ac4-5368-4243-99ad-630dae05430c",
   "metadata": {},
   "outputs": [],
   "source": [
    "# Function to clean column names\n",
    "\n",
    "def column_name_remove_space(df):\n",
    "    for x in df.columns:\n",
    "        if \" \" in x:\n",
    "            df = df.rename(columns={x:x.replace(\" \",\"_\").replace(\"(\",\"\")\n",
    "                                    .replace(\")\",\"\").replace(\",\",\"_\").replace(\"/\",\"_\")})\n",
    "    return df"
   ]
  },
  {
   "cell_type": "code",
   "execution_count": 4,
   "id": "aff18614-bbd6-4180-a2dd-dd2458b97f85",
   "metadata": {},
   "outputs": [
    {
     "data": {
      "text/plain": [
       "False"
      ]
     },
     "execution_count": 4,
     "metadata": {},
     "output_type": "execute_result"
    }
   ],
   "source": [
    "# Check for null values\n",
    "data.isna().any(axis=0).any()"
   ]
  },
  {
   "cell_type": "markdown",
   "id": "43071871",
   "metadata": {},
   "source": [
    "Modelo Inicial"
   ]
  },
  {
   "cell_type": "code",
   "execution_count": 5,
   "id": "913fa372-3945-42a1-8981-10f99131d386",
   "metadata": {},
   "outputs": [],
   "source": [
    "# Following columns have categorical data types and they need to be converted to dummy variables\n",
    "dummy_variable_columns = to_plot = ['GENDER','BILLING_PLATFORM','HAS_FREE_TRIAL','SUBSCRIPTION_PERIOD','BY_CAMPAIGN',\n",
    "                                    'SUBSCRIPTION_TYPE','HAS_ANY_KIDS_PROFILE_STREAMING','PRODUCT_SWITCH','IS_RECONNECT_PAID_TO_PAID','IS_RECONNECT_PAID_TO_TRIAL',\n",
    "                                    'IS_RECONNECT_TRIAL_TO_PAID','IS_RECONNECT_TRIAL_TO_TRIAL','STREAM_SPORTS','STREAM_SERIES',\n",
    "                                    'STREAM_MOVIES','PAYMENT_METHOD','PURCHASE_DEVICE_TYPE', 'CHURN']\n",
    "\n",
    "\n",
    "# Following columns have continuous numerical data, which needs to be scaled before predictive model can be created.\n",
    "# Hence, these columns will be transformed to normalized form.\n",
    "\n",
    "to_transform = ['DISTINCT_TITLES','DAYS_SINCE_LAST_STREAM','MINS_WATCHED', 'DEVICE_COUNT',\n",
    "                'DAYS_STREAM','NUMB_OF_PROFILES','CHILDREN','AGE_IN_MONTHS']\n",
    "\n",
    "dummy_data_file_index = 0"
   ]
  },
  {
   "cell_type": "code",
   "execution_count": 6,
   "id": "640ee14d-cc61-45a6-859f-15bb4975eb43",
   "metadata": {},
   "outputs": [],
   "source": [
    "\n",
    "def get_dummy_data_with_output(dummy_variable_columns, data):\n",
    "    global dummy_data_file_index\n",
    "    dummy_data = pd.get_dummies(data, prefix=dummy_variable_columns, columns=dummy_variable_columns, drop_first= True)\n",
    "    dummy_data = column_name_remove_space(dummy_data)\n",
    "    dummy_data.to_csv('dummy_var_data'+str(dummy_data_file_index)+'.csv', index=False)\n",
    "    y = dummy_data['CHURN_Yes']\n",
    "    dummy_data.drop(columns=['CHURN_Yes'], inplace=True)\n",
    "    sc = StandardScaler()\n",
    "    dummy_data.loc[:,to_transform] = sc.fit_transform(dummy_data.loc[:,to_transform])\n",
    "    dummy_data_file_index += 1\n",
    "    return y, dummy_data\n",
    "\n",
    "y, dummy_data = get_dummy_data_with_output(dummy_variable_columns, data)"
   ]
  },
  {
   "cell_type": "code",
   "execution_count": 7,
   "id": "e06003d3-8c08-45b0-9f48-4bd8a8aad44a",
   "metadata": {},
   "outputs": [],
   "source": [
    "# Split the training and test set 7:3 \n",
    "X_train, X_test, y_train, y_test = train_test_split(dummy_data,y,test_size=.3, random_state=0)"
   ]
  },
  {
   "cell_type": "code",
   "execution_count": 8,
   "id": "c47aaca0-a0d7-41c4-8a0d-8f1a8fac549d",
   "metadata": {},
   "outputs": [],
   "source": [
    "# Creating a function to create prediction model based on statsmodel library and\n",
    "# print details like model Summary, Confusion Matrix and Accuracy Score based on predicted values using test set\n",
    "\n",
    "def get_sm_model(y_train,X_train, X_test):\n",
    "    X_train = sm.add_constant(X_train)\n",
    "    X_test = sm.add_constant(X_test)\n",
    "    logit_model=sm.Logit(y_train,X_train)\n",
    "    model=logit_model.fit()\n",
    "    print(model.summary())\n",
    "    y_hat = list(map(round, model.predict(X_test)))\n",
    "    arr = np.c_[y_hat, y_test]\n",
    "    print('\\nPrinting predicted and actual values:\\n',arr)\n",
    "    print('Confusion Matrix \\n',confusion_matrix(y_test, y_hat))\n",
    "    print('Accuracy Score: ',accuracy_score(y_test, y_hat))\n",
    "    return model, arr\n",
    "\n",
    "# Creating a function to create prediction model based on sklearn library and\n",
    "# print details like model Summary, Confusion Matrix and Accuracy Score based on predicted values using test set\n",
    "\n",
    "def get_sk_model(y_train,X_train, X_test):\n",
    "    model = LogisticRegression(max_iter=100000000)\n",
    "    model.fit(X_train, y_train)\n",
    "    arr = np.c_[X_train.columns.tolist(),model.coef_[0]]\n",
    "    intercept = model.intercept_[0]\n",
    "    print('\\nPrinting model coefficients and intercept summary for sklearn model:\\n',arr, model.intercept_)\n",
    "    y_pred = model.predict(X_test)\n",
    "    print('\\nPrinting predicted and actual values from sklearn:\\n',np.c_[y_pred, y_test])\n",
    "    print('Confusion Matrix from sklearn\\n',confusion_matrix(y_test, y_pred))\n",
    "    plt.matshow(confusion_matrix(y_test, y_pred))\n",
    "    plt.title('Confusion matrix')\n",
    "    plt.colorbar()\n",
    "    plt.ylabel('True label')\n",
    "    plt.xlabel('Predicted label')\n",
    "    plt.grid(b=None)\n",
    "    plt.show()\n",
    "    print('Accuracy Scores from sklearn:\\n',accuracy_score(y_test, y_pred))\n",
    "    print('Classification Report from sklearn:\\n',classification_report(y_test, y_pred))\n",
    "    return model, arr, intercept\n",
    "\n",
    "\n",
    "# Function to create AUC chart and print AUC score.\n",
    "# AUC score closer to 1 is considered a good model\n",
    "# Auc score of 0.5 represents are model which is no\n",
    "# better than a random guess with 50% chance of predicting the right outcome\n",
    "\n",
    "from sklearn.metrics import roc_curve\n",
    "def roc(model, X_test, y_test):\n",
    "    probs = model.predict_proba(X_test)\n",
    "    fpr, tpr, _ = roc_curve(y_test, probs[:,1])\n",
    "    plt.plot(fpr, tpr, marker='.')\n",
    "    plt.xlabel('False Positive Rate')\n",
    "    plt.ylabel('True Positive Rate')\n",
    "    plt.show()\n",
    "    print('AUC: %.3f' % roc_auc_score(y_test, probs[:,1]))"
   ]
  },
  {
   "cell_type": "code",
   "execution_count": 9,
   "id": "3fe1140e-ae11-434b-9c43-6faa563645a5",
   "metadata": {},
   "outputs": [
    {
     "name": "stderr",
     "output_type": "stream",
     "text": [
      "c:\\Users\\ciafa001\\AppData\\Local\\Programs\\Python\\Python39\\lib\\site-packages\\statsmodels\\discrete\\discrete_model.py:1819: RuntimeWarning: overflow encountered in exp\n",
      "  return 1/(1+np.exp(-X))\n",
      "c:\\Users\\ciafa001\\AppData\\Local\\Programs\\Python\\Python39\\lib\\site-packages\\statsmodels\\discrete\\discrete_model.py:1872: RuntimeWarning: divide by zero encountered in log\n",
      "  return np.sum(np.log(self.cdf(q*np.dot(X,params))))\n",
      "c:\\Users\\ciafa001\\AppData\\Local\\Programs\\Python\\Python39\\lib\\site-packages\\statsmodels\\base\\model.py:592: HessianInversionWarning: Inverting hessian failed, no bse or cov_params available\n",
      "  warnings.warn('Inverting hessian failed, no bse or cov_params '\n",
      "c:\\Users\\ciafa001\\AppData\\Local\\Programs\\Python\\Python39\\lib\\site-packages\\statsmodels\\base\\model.py:592: HessianInversionWarning: Inverting hessian failed, no bse or cov_params available\n",
      "  warnings.warn('Inverting hessian failed, no bse or cov_params '\n"
     ]
    },
    {
     "name": "stdout",
     "output_type": "stream",
     "text": [
      "Optimization terminated successfully.\n",
      "         Current function value: inf\n",
      "         Iterations 9\n",
      "                           Logit Regression Results                           \n",
      "==============================================================================\n",
      "Dep. Variable:              CHURN_Yes   No. Observations:                 7000\n",
      "Model:                          Logit   Df Residuals:                     6967\n",
      "Method:                           MLE   Df Model:                           32\n",
      "Date:                Mon, 12 Sep 2022   Pseudo R-squ.:                     inf\n",
      "Time:                        12:22:01   Log-Likelihood:                   -inf\n",
      "converged:                       True   LL-Null:                        0.0000\n",
      "Covariance Type:            nonrobust   LLR p-value:                     1.000\n",
      "========================================================================================================\n",
      "                                           coef    std err          z      P>|z|      [0.025      0.975]\n",
      "--------------------------------------------------------------------------------------------------------\n",
      "const                                   -2.9525      0.973     -3.035      0.002      -4.859      -1.046\n",
      "CHILDREN                                -0.0991      0.190     -0.522      0.602      -0.471       0.273\n",
      "AGE_IN_MONTHS                            0.0636      0.194      0.328      0.743      -0.316       0.443\n",
      "DEVICE_COUNT                            -0.0170      0.047     -0.361      0.718      -0.109       0.075\n",
      "DAYS_STREAM                             -0.0398      0.047     -0.850      0.395      -0.131       0.052\n",
      "NUMB_OF_PROFILES                         0.0858      0.047      1.840      0.066      -0.006       0.177\n",
      "DISTINCT_TITLES                         -6.4616      6.053     -1.068      0.286     -18.324       5.401\n",
      "DAYS_SINCE_LAST_STREAM                   1.4373      0.369      3.894      0.000       0.714       2.161\n",
      "MINS_WATCHED                             3.3208      6.103      0.544      0.586      -8.642      15.283\n",
      "GENDER_Male                              0.0464      0.198      0.235      0.814      -0.341       0.434\n",
      "BILLING_PLATFORM_APPLE                  -0.0449      0.149     -0.301      0.763      -0.337       0.247\n",
      "BILLING_PLATFORM_DIRECT                 -0.0201      0.130     -0.155      0.877      -0.275       0.235\n",
      "BILLING_PLATFORM_GOOGLE                 -0.1941      0.147     -1.317      0.188      -0.483       0.095\n",
      "HAS_FREE_TRIAL_Yes                       1.1707      0.125      9.343      0.000       0.925       1.416\n",
      "SUBSCRIPTION_PERIOD_One_year            -3.5337      0.159    -22.266      0.000      -3.845      -3.223\n",
      "SUBSCRIPTION_PERIOD_Two_Year            -3.5879      0.154    -23.316      0.000      -3.890      -3.286\n",
      "BY_CAMPAIGN_Yes                          0.1659      0.094      1.772      0.076      -0.018       0.349\n",
      "SUBSCRIPTION_TYPE_Combo                  0.4598      1.084      0.424      0.671      -1.664       2.584\n",
      "SUBSCRIPTION_TYPE_Standalone            -0.8777      0.299     -2.934      0.003      -1.464      -0.291\n",
      "HAS_ANY_KIDS_PROFILE_STREAMING_Yes      -0.4268      0.164     -2.603      0.009      -0.748      -0.105\n",
      "PRODUCT_SWITCH_Yes                       0.5413      0.187      2.901      0.004       0.176       0.907\n",
      "IS_RECONNECT_PAID_TO_PAID_Yes           -0.3639      0.217     -1.678      0.093      -0.789       0.061\n",
      "IS_RECONNECT_PAID_TO_TRIAL_Yes           0.0229      0.180      0.127      0.899      -0.331       0.377\n",
      "IS_RECONNECT_TRIAL_TO_PAID_Yes          -0.0107      0.187     -0.057      0.954      -0.377       0.356\n",
      "IS_RECONNECT_TRIAL_TO_TRIAL_Yes         -0.1568      0.138     -1.138      0.255      -0.427       0.113\n",
      "STREAM_SPORTS_Yes                        1.2691      0.422      3.009      0.003       0.442       2.096\n",
      "STREAM_SERIES_Yes                        1.4128      0.365      3.871      0.000       0.697       2.128\n",
      "STREAM_MOVIES_Yes                        0.1748      0.095      1.838      0.066      -0.012       0.361\n",
      "PAYMENT_METHOD_Credit_Card_automatic     0.2861      0.144      1.985      0.047       0.004       0.569\n",
      "PAYMENT_METHOD_Electronic_Check          0.6838      0.129      5.301      0.000       0.431       0.937\n",
      "PAYMENT_METHOD_Mailed_Check              0.2616      0.140      1.867      0.062      -0.013       0.536\n",
      "PURCHASE_DEVICE_TYPE_Desktop            -0.2462      0.114     -2.161      0.031      -0.469      -0.023\n",
      "PURCHASE_DEVICE_TYPE_Mobile             -0.1887      0.115     -1.647      0.100      -0.413       0.036\n",
      "========================================================================================================\n",
      "\n",
      "Possibly complete quasi-separation: A fraction 0.11 of observations can be\n",
      "perfectly predicted. This might indicate that there is complete\n",
      "quasi-separation. In this case some parameters will not be identified.\n",
      "\n",
      "Printing predicted and actual values:\n",
      " [[0 0]\n",
      " [0 0]\n",
      " [1 1]\n",
      " ...\n",
      " [0 0]\n",
      " [0 0]\n",
      " [0 0]]\n",
      "Confusion Matrix \n",
      " [[2047  154]\n",
      " [ 160  639]]\n",
      "Accuracy Score:  0.8953333333333333\n",
      "\n",
      "Printing model coefficients and intercept summary for sklearn model:\n",
      " [['CHILDREN' '0.037242288015004205']\n",
      " ['AGE_IN_MONTHS' '-0.07492234230295124']\n",
      " ['DEVICE_COUNT' '-0.016467191141047777']\n",
      " ['DAYS_STREAM' '-0.036428616842003804']\n",
      " ['NUMB_OF_PROFILES' '0.08232627876634993']\n",
      " ['DISTINCT_TITLES' '-1.85079831675084']\n",
      " ['DAYS_SINCE_LAST_STREAM' '1.6798228290469028']\n",
      " ['MINS_WATCHED' '-1.2422042123080224']\n",
      " ['GENDER_Male' '0.16838578914657143']\n",
      " ['BILLING_PLATFORM_APPLE' '-0.03444546192142214']\n",
      " ['BILLING_PLATFORM_DIRECT' '-0.012949376891808442']\n",
      " ['BILLING_PLATFORM_GOOGLE' '-0.17676096397267574']\n",
      " ['HAS_FREE_TRIAL_Yes' '1.1180481546556809']\n",
      " ['SUBSCRIPTION_PERIOD_One_year' '-3.3760403207532974']\n",
      " ['SUBSCRIPTION_PERIOD_Two_Year' '-3.4321092199549663']\n",
      " ['BY_CAMPAIGN_Yes' '0.15928905942886346']\n",
      " ['SUBSCRIPTION_TYPE_Combo' '1.199412609761271']\n",
      " ['SUBSCRIPTION_TYPE_Standalone' '-1.0597617755569366']\n",
      " ['HAS_ANY_KIDS_PROFILE_STREAMING_Yes' '-0.4054539547969612']\n",
      " ['PRODUCT_SWITCH_Yes' '0.46139788215784605']\n",
      " ['IS_RECONNECT_PAID_TO_PAID_Yes' '-0.2160464774785441']\n",
      " ['IS_RECONNECT_PAID_TO_TRIAL_Yes' '0.06640364211054975']\n",
      " ['IS_RECONNECT_TRIAL_TO_PAID_Yes' '0.08035968399936361']\n",
      " ['IS_RECONNECT_TRIAL_TO_TRIAL_Yes' '-0.22402970112496717']\n",
      " ['STREAM_SPORTS_Yes' '1.4088492384489137']\n",
      " ['STREAM_SERIES_Yes' '1.449886989676446']\n",
      " ['STREAM_MOVIES_Yes' '0.16529693912305551']\n",
      " ['PAYMENT_METHOD_Credit_Card_automatic' '0.26142775687886055']\n",
      " ['PAYMENT_METHOD_Electronic_Check' '0.645792213340941']\n",
      " ['PAYMENT_METHOD_Mailed_Check' '0.23844621244767222']\n",
      " ['PURCHASE_DEVICE_TYPE_Desktop' '-0.2320865502503198']\n",
      " ['PURCHASE_DEVICE_TYPE_Mobile' '-0.17827778094897254']] [-3.29894994]\n",
      "\n",
      "Printing predicted and actual values from sklearn:\n",
      " [[0 0]\n",
      " [0 0]\n",
      " [1 1]\n",
      " ...\n",
      " [0 0]\n",
      " [0 0]\n",
      " [0 0]]\n",
      "Confusion Matrix from sklearn\n",
      " [[2051  150]\n",
      " [ 160  639]]\n"
     ]
    },
    {
     "name": "stderr",
     "output_type": "stream",
     "text": [
      "C:\\Users\\ciafa001\\AppData\\Local\\Temp\\15\\ipykernel_8532\\2153310723.py:34: MatplotlibDeprecationWarning: The 'b' parameter of grid() has been renamed 'visible' since Matplotlib 3.5; support for the old name will be dropped two minor releases later.\n",
      "  plt.grid(b=None)\n"
     ]
    },
    {
     "data": {
      "image/png": "[encoded data removed]",
      "text/plain": [
       "<Figure size 345.6x345.6 with 2 Axes>"
      ]
     },
     "metadata": {
      "needs_background": "light"
     },
     "output_type": "display_data"
    },
    {
     "name": "stdout",
     "output_type": "stream",
     "text": [
      "Accuracy Scores from sklearn:\n",
      " 0.8966666666666666\n",
      "Classification Report from sklearn:\n",
      "               precision    recall  f1-score   support\n",
      "\n",
      "           0       0.93      0.93      0.93      2201\n",
      "           1       0.81      0.80      0.80       799\n",
      "\n",
      "    accuracy                           0.90      3000\n",
      "   macro avg       0.87      0.87      0.87      3000\n",
      "weighted avg       0.90      0.90      0.90      3000\n",
      "\n"
     ]
    },
    {
     "data": {
      "image/png": "[encoded data removed]",
      "text/plain": [
       "<Figure size 432x288 with 1 Axes>"
      ]
     },
     "metadata": {
      "needs_background": "light"
     },
     "output_type": "display_data"
    },
    {
     "name": "stdout",
     "output_type": "stream",
     "text": [
      "AUC: 0.956\n"
     ]
    }
   ],
   "source": [
    "# Run statsmodel function\n",
    "get_sm_model(y_train,X_train, X_test);\n",
    "# Run sklearn model\n",
    "model, arr, intercept = get_sk_model(y_train,X_train, X_test);\n",
    "# Run AUC\n",
    "roc(model, X_test, y_test);"
   ]
  },
  {
   "cell_type": "markdown",
   "id": "4b285b7f",
   "metadata": {},
   "source": [
    "Modelo Final"
   ]
  },
  {
   "cell_type": "code",
   "execution_count": 19,
   "id": "c5673b22-0a45-4059-8a60-54b847b9a3c7",
   "metadata": {},
   "outputs": [],
   "source": [
    "data_reduced = data[['NUMB_OF_PROFILES','DAYS_SINCE_LAST_STREAM', 'DISTINCT_TITLES', 'CHURN','BILLING_PLATFORM', 'HAS_FREE_TRIAL','SUBSCRIPTION_PERIOD', \n",
    "                     'BY_CAMPAIGN','SUBSCRIPTION_TYPE','HAS_ANY_KIDS_PROFILE_STREAMING',\n",
    "                     'STREAM_SERIES','STREAM_MOVIES','PAYMENT_METHOD', 'STREAM_SPORTS', 'PRODUCT_SWITCH', 'IS_RECONNECT_PAID_TO_PAID', 'IS_RECONNECT_TRIAL_TO_TRIAL']]\n",
    "\n",
    "dummy_variable_columns = ['CHURN','BILLING_PLATFORM', 'HAS_FREE_TRIAL','SUBSCRIPTION_PERIOD', 'BY_CAMPAIGN','SUBSCRIPTION_TYPE','HAS_ANY_KIDS_PROFILE_STREAMING',\n",
    "                          'STREAM_SERIES','STREAM_MOVIES','PAYMENT_METHOD', 'STREAM_SPORTS', 'PRODUCT_SWITCH', 'IS_RECONNECT_PAID_TO_PAID', 'IS_RECONNECT_TRIAL_TO_TRIAL']\n",
    "\n",
    "to_transform = ['NUMB_OF_PROFILES','DAYS_SINCE_LAST_STREAM', 'DISTINCT_TITLES']\n",
    "\n",
    "data_diff = [i for i in data.columns.tolist() + data_reduced.columns.tolist() if i not in data.columns.tolist() or i not in data_reduced.columns.tolist()]\n"
   ]
  },
  {
   "cell_type": "code",
   "execution_count": 20,
   "id": "3b0e1903",
   "metadata": {},
   "outputs": [],
   "source": [
    "\n",
    "y, dummy_data_reduced = get_dummy_data_with_output(dummy_variable_columns, data_reduced)"
   ]
  },
  {
   "cell_type": "code",
   "execution_count": 21,
   "id": "a2d74bf1",
   "metadata": {},
   "outputs": [],
   "source": [
    "# Split the training and test set 7:3 \n",
    "X_train, X_test, y_train, y_test = train_test_split(dummy_data_reduced,y,test_size=.3, random_state=0)\n"
   ]
  },
  {
   "cell_type": "code",
   "execution_count": 22,
   "id": "c407574a",
   "metadata": {},
   "outputs": [
    {
     "name": "stderr",
     "output_type": "stream",
     "text": [
      "c:\\Users\\ciafa001\\AppData\\Local\\Programs\\Python\\Python39\\lib\\site-packages\\statsmodels\\discrete\\discrete_model.py:1819: RuntimeWarning: overflow encountered in exp\n",
      "  return 1/(1+np.exp(-X))\n",
      "c:\\Users\\ciafa001\\AppData\\Local\\Programs\\Python\\Python39\\lib\\site-packages\\statsmodels\\discrete\\discrete_model.py:1872: RuntimeWarning: divide by zero encountered in log\n",
      "  return np.sum(np.log(self.cdf(q*np.dot(X,params))))\n",
      "c:\\Users\\ciafa001\\AppData\\Local\\Programs\\Python\\Python39\\lib\\site-packages\\statsmodels\\base\\model.py:592: HessianInversionWarning: Inverting hessian failed, no bse or cov_params available\n",
      "  warnings.warn('Inverting hessian failed, no bse or cov_params '\n",
      "c:\\Users\\ciafa001\\AppData\\Local\\Programs\\Python\\Python39\\lib\\site-packages\\statsmodels\\base\\model.py:592: HessianInversionWarning: Inverting hessian failed, no bse or cov_params available\n",
      "  warnings.warn('Inverting hessian failed, no bse or cov_params '\n"
     ]
    },
    {
     "name": "stdout",
     "output_type": "stream",
     "text": [
      "Optimization terminated successfully.\n",
      "         Current function value: inf\n",
      "         Iterations 9\n",
      "                           Logit Regression Results                           \n",
      "==============================================================================\n",
      "Dep. Variable:              CHURN_Yes   No. Observations:                 7000\n",
      "Model:                          Logit   Df Residuals:                     6977\n",
      "Method:                           MLE   Df Model:                           22\n",
      "Date:                Mon, 12 Sep 2022   Pseudo R-squ.:                     inf\n",
      "Time:                        12:41:04   Log-Likelihood:                   -inf\n",
      "converged:                       True   LL-Null:                        0.0000\n",
      "Covariance Type:            nonrobust   LLR p-value:                     1.000\n",
      "========================================================================================================\n",
      "                                           coef    std err          z      P>|z|      [0.025      0.975]\n",
      "--------------------------------------------------------------------------------------------------------\n",
      "const                                   -3.1625      0.361     -8.755      0.000      -3.870      -2.455\n",
      "NUMB_OF_PROFILES                         0.0880      0.046      1.899      0.058      -0.003       0.179\n",
      "DAYS_SINCE_LAST_STREAM                   1.7023      0.135     12.650      0.000       1.439       1.966\n",
      "DISTINCT_TITLES                         -3.1648      0.097    -32.604      0.000      -3.355      -2.975\n",
      "BILLING_PLATFORM_APPLE                  -0.0365      0.148     -0.246      0.806      -0.327       0.254\n",
      "BILLING_PLATFORM_DIRECT                 -0.0107      0.130     -0.082      0.934      -0.265       0.244\n",
      "BILLING_PLATFORM_GOOGLE                 -0.1848      0.147     -1.256      0.209      -0.473       0.104\n",
      "HAS_FREE_TRIAL_Yes                       1.1624      0.125      9.304      0.000       0.918       1.407\n",
      "SUBSCRIPTION_PERIOD_One_year            -3.5050      0.158    -22.246      0.000      -3.814      -3.196\n",
      "SUBSCRIPTION_PERIOD_Two_Year            -3.5681      0.153    -23.327      0.000      -3.868      -3.268\n",
      "BY_CAMPAIGN_Yes                          0.1583      0.093      1.695      0.090      -0.025       0.341\n",
      "SUBSCRIPTION_TYPE_Combo                  1.0119      0.137      7.384      0.000       0.743       1.280\n",
      "SUBSCRIPTION_TYPE_Standalone            -1.0717      0.159     -6.734      0.000      -1.384      -0.760\n",
      "HAS_ANY_KIDS_PROFILE_STREAMING_Yes      -0.4252      0.163     -2.607      0.009      -0.745      -0.106\n",
      "STREAM_SERIES_Yes                        1.3878      0.186      7.473      0.000       1.024       1.752\n",
      "STREAM_MOVIES_Yes                        0.1799      0.095      1.896      0.058      -0.006       0.366\n",
      "PAYMENT_METHOD_Credit_Card_automatic     0.2808      0.144      1.955      0.051      -0.001       0.562\n",
      "PAYMENT_METHOD_Electronic_Check          0.6793      0.128      5.288      0.000       0.427       0.931\n",
      "PAYMENT_METHOD_Mailed_Check              0.2476      0.140      1.772      0.076      -0.026       0.521\n",
      "STREAM_SPORTS_Yes                        1.3372      0.162      8.240      0.000       1.019       1.655\n",
      "PRODUCT_SWITCH_Yes                       0.4518      0.132      3.414      0.001       0.192       0.711\n",
      "IS_RECONNECT_PAID_TO_PAID_Yes           -0.2604      0.098     -2.653      0.008      -0.453      -0.068\n",
      "IS_RECONNECT_TRIAL_TO_TRIAL_Yes         -0.2309      0.102     -2.264      0.024      -0.431      -0.031\n",
      "========================================================================================================\n",
      "\n",
      "Possibly complete quasi-separation: A fraction 0.11 of observations can be\n",
      "perfectly predicted. This might indicate that there is complete\n",
      "quasi-separation. In this case some parameters will not be identified.\n",
      "\n",
      "Printing predicted and actual values:\n",
      " [[0 0]\n",
      " [0 0]\n",
      " [1 1]\n",
      " ...\n",
      " [0 0]\n",
      " [0 0]\n",
      " [0 0]]\n",
      "Confusion Matrix \n",
      " [[2046  155]\n",
      " [ 154  645]]\n",
      "Accuracy Score:  0.897\n",
      "\n",
      "Printing model coefficients and intercept summary for sklearn model:\n",
      " [['NUMB_OF_PROFILES' '0.08444126210939437']\n",
      " ['DAYS_SINCE_LAST_STREAM' '1.6664299211693474']\n",
      " ['DISTINCT_TITLES' '-3.0675809944095067']\n",
      " ['BILLING_PLATFORM_APPLE' '-0.02622026279962114']\n",
      " ['BILLING_PLATFORM_DIRECT' '-0.005349776263390836']\n",
      " ['BILLING_PLATFORM_GOOGLE' '-0.17074587252483897']\n",
      " ['HAS_FREE_TRIAL_Yes' '1.108423899235606']\n",
      " ['SUBSCRIPTION_PERIOD_One_year' '-3.344787058775002']\n",
      " ['SUBSCRIPTION_PERIOD_Two_Year' '-3.411348515317011']\n",
      " ['BY_CAMPAIGN_Yes' '0.15315893455507762']\n",
      " ['SUBSCRIPTION_TYPE_Combo' '0.9663549421142409']\n",
      " ['SUBSCRIPTION_TYPE_Standalone' '-1.0466902037725392']\n",
      " ['HAS_ANY_KIDS_PROFILE_STREAMING_Yes' '-0.40079762789181955']\n",
      " ['STREAM_SERIES_Yes' '1.3209124546309123']\n",
      " ['STREAM_MOVIES_Yes' '0.170727776494724']\n",
      " ['PAYMENT_METHOD_Credit_Card_automatic' '0.2586670576059938']\n",
      " ['PAYMENT_METHOD_Electronic_Check' '0.6435291519531035']\n",
      " ['PAYMENT_METHOD_Mailed_Check' '0.22921642930019412']\n",
      " ['STREAM_SPORTS_Yes' '1.2712745824763767']\n",
      " ['PRODUCT_SWITCH_Yes' '0.42464503191715136']\n",
      " ['IS_RECONNECT_PAID_TO_PAID_Yes' '-0.25331480906613424']\n",
      " ['IS_RECONNECT_TRIAL_TO_TRIAL_Yes' '-0.22493730849957239']] [-3.04962451]\n",
      "\n",
      "Printing predicted and actual values from sklearn:\n",
      " [[0 0]\n",
      " [0 0]\n",
      " [1 1]\n",
      " ...\n",
      " [0 0]\n",
      " [0 0]\n",
      " [0 0]]\n",
      "Confusion Matrix from sklearn\n",
      " [[2047  154]\n",
      " [ 156  643]]\n"
     ]
    },
    {
     "name": "stderr",
     "output_type": "stream",
     "text": [
      "C:\\Users\\ciafa001\\AppData\\Local\\Temp\\15\\ipykernel_8532\\2153310723.py:34: MatplotlibDeprecationWarning: The 'b' parameter of grid() has been renamed 'visible' since Matplotlib 3.5; support for the old name will be dropped two minor releases later.\n",
      "  plt.grid(b=None)\n"
     ]
    },
    {
     "data": {
      "image/png": "[encoded data removed]",
      "text/plain": [
       "<Figure size 288x288 with 2 Axes>"
      ]
     },
     "metadata": {
      "needs_background": "light"
     },
     "output_type": "display_data"
    },
    {
     "name": "stdout",
     "output_type": "stream",
     "text": [
      "Accuracy Scores from sklearn:\n",
      " 0.8966666666666666\n",
      "Classification Report from sklearn:\n",
      "               precision    recall  f1-score   support\n",
      "\n",
      "           0       0.93      0.93      0.93      2201\n",
      "           1       0.81      0.80      0.81       799\n",
      "\n",
      "    accuracy                           0.90      3000\n",
      "   macro avg       0.87      0.87      0.87      3000\n",
      "weighted avg       0.90      0.90      0.90      3000\n",
      "\n"
     ]
    },
    {
     "data": {
      "image/png": "[encoded data removed]",
      "text/plain": [
       "<Figure size 432x288 with 1 Axes>"
      ]
     },
     "metadata": {
      "needs_background": "light"
     },
     "output_type": "display_data"
    },
    {
     "name": "stdout",
     "output_type": "stream",
     "text": [
      "AUC: 0.957\n"
     ]
    }
   ],
   "source": [
    "# Run statsmodel on reduced data set\n",
    "get_sm_model(y_train,X_train, X_test);\n",
    "# Run sklearn model on reduced data set\n",
    "model, arr, intercept = get_sk_model(y_train,X_train, X_test);\n",
    "roc(model, X_test, y_test);"
   ]
  },
  {
   "cell_type": "markdown",
   "id": "8ae435b0",
   "metadata": {},
   "source": [
    "Análisis Adicionales"
   ]
  },
  {
   "cell_type": "code",
   "execution_count": 23,
   "id": "1bed30c0",
   "metadata": {},
   "outputs": [
    {
     "name": "stdout",
     "output_type": "stream",
     "text": [
      "AxesSubplot(0.125,0.125;0.775x0.755)\n"
     ]
    },
    {
     "data": {
      "image/png": "[encoded data removed]",
      "text/plain": [
       "<Figure size 432x288 with 1 Axes>"
      ]
     },
     "metadata": {
      "needs_background": "light"
     },
     "output_type": "display_data"
    }
   ],
   "source": [
    "# To get the weights of all the variables\n",
    "weights = pd.Series(model.coef_[0],\n",
    "                 index=dummy_data_reduced.columns.values)\n",
    "print (weights.sort_values(ascending = False)[:10].plot(kind='barh'))"
   ]
  },
  {
   "cell_type": "code",
   "execution_count": 34,
   "id": "a739e498-ee0d-4ce0-bc20-1223f3fd7dd7",
   "metadata": {},
   "outputs": [
    {
     "name": "stdout",
     "output_type": "stream",
     "text": [
      "DAYS_SINCE_LAST_STREAM : Odds Ratio Reduction with unit increase: -46.87% Odds Ratio Reduction with unit decrease: 31.91%\n",
      "DAYS_SINCE_LAST_STREAM : Odds Ratio Reduction with unit increase: -31800.31% Odds Ratio Reduction with unit decrease: 99.69%\n",
      "DAYS_SINCE_LAST_STREAM : Odds Ratio Reduction with unit increase: -4568.71% Odds Ratio Reduction with unit decrease: 97.86%\n"
     ]
    }
   ],
   "source": [
    "# Function to calculate the reduction percentage in odds ratio\n",
    "def impact(coeff, field,x, categorical=False):\n",
    "    if categorical:\n",
    "        exp = np.exp(x*coeff)\n",
    "        print ( field, ': Odds Ratio Reduction : '+str(round((1 - exp)*100,2 ))+'%')\n",
    "    else:\n",
    "        exp1 = np.exp(x*coeff/data_reduced['DAYS_SINCE_LAST_STREAM'].std())\n",
    "        exp2 = np.exp(-1*x*coeff/data_reduced['DAYS_SINCE_LAST_STREAM'].std())\n",
    "        print ( field, ': Odds Ratio Reduction with unit increase: '+str(round((1 - exp1)*100,2 ))+'%', 'Odds Ratio Reduction with unit decrease: '+str(round((1 - exp2)*100,2 ))+'%')\n",
    "\n",
    "        \n",
    "\n",
    "impact(1.67,'DAYS_SINCE_LAST_STREAM',1)\n",
    "impact(1.67,'DAYS_SINCE_LAST_STREAM',15)\n",
    "impact(1.67,'DAYS_SINCE_LAST_STREAM',10)"
   ]
  },
  {
   "cell_type": "code",
   "execution_count": 25,
   "id": "3e8ce2fd-3df2-42e2-bd37-dc60cc20fe75",
   "metadata": {},
   "outputs": [
    {
     "name": "stdout",
     "output_type": "stream",
     "text": [
      "P (Y=1|X) = 1 / (1 + exp(-1x( +0.08 x NUMB_OF_PROFILES  +1.67 x DAYS_SINCE_LAST_STREAM  -3.07 x DISTINCT_TITLES  -0.03 x BILLING_PLATFORM_APPLE  -0.01 x BILLING_PLATFORM_DIRECT  -0.17 x BILLING_PLATFORM_GOOGLE  +1.11 x HAS_FREE_TRIAL  -3.34 x SUBSCRIPTION_PERIOD_One_year  -3.41 x SUBSCRIPTION_PERIOD_Two_Year  +0.15 x BY_CAMPAIGN  +0.97 x SUBSCRIPTION_TYPE_Combo  -1.05 x SUBSCRIPTION_TYPE_Standalone  -0.4 x HAS_ANY_KIDS_PROFILE_STREAMING  +1.32 x STREAM_SERIES  +0.17 x STREAM_MOVIES  +0.26 x PAYMENT_METHOD_Credit_Card_automatic  +0.64 x PAYMENT_METHOD_Electronic_Check  +0.23 x PAYMENT_METHOD_Mailed_Check  +1.27 x STREAM_SPORTS  +0.42 x PRODUCT_SWITCH  -0.25 x IS_RECONNECT_PAID_TO_PAID  -0.22 x IS_RECONNECT_TRIAL_TO_TRIAL  -3.05)))\n"
     ]
    }
   ],
   "source": [
    "# Code to print the equation\n",
    "\n",
    "equation = ''\n",
    "\n",
    "for a in arr:\n",
    "    if not a[0].startswith('State'):\n",
    "        new = str(round(float(a[1].replace(\"\\'\",\"\")),2))+' x '+a[0].replace(\"\\'\",\"\").replace('_Yes','')\n",
    "        if new.startswith('-'):\n",
    "            equation = equation + ' ' + new + ' '\n",
    "        else:\n",
    "            equation = equation + ' +' + new + ' '\n",
    "interceptstr = str(round(intercept,2))\n",
    "\n",
    "if interceptstr.startswith('-'):\n",
    "    equation = equation + ' ' + interceptstr\n",
    "else:\n",
    "    equation = equation + ' +' + interceptstr\n",
    "\n",
    "y = 'exp(-1x('+equation+'))'\n",
    "\n",
    "print ('P (Y=1|X) = 1 / (1 + '+y+')')"
   ]
  }
 ],
 "metadata": {
  "kernelspec": {
   "display_name": "Python 3.9.7 64-bit (system)",
   "language": "python",
   "name": "python3"
  },
  "language_info": {
   "codemirror_mode": {
    "name": "ipython",
    "version": 3
   },
   "file_extension": ".py",
   "mimetype": "text/x-python",
   "name": "python",
   "nbconvert_exporter": "python",
   "pygments_lexer": "ipython3",
   "version": "3.9.7"
  },
  "vscode": {
   "interpreter": {
    "hash": "5e23deaf657df8da0481726d5faa78805c0039777840256ed40762b1c99e2ca9"
   }
  }
 },
 "nbformat": 4,
 "nbformat_minor": 5
}
