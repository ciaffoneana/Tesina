{
 "cells": [
  {
   "cell_type": "code",
   "execution_count": 1,
   "id": "0beb5cff-56fe-4156-84f8-232ba713a403",
   "metadata": {},
   "outputs": [],
   "source": [
    "# Code to generate a sigmoid graph showing how the signoid function logic can be used for binary classification\n",
    "\n",
    "import numpy as np\n",
    "import matplotlib.pyplot as plt\n",
    "%matplotlib inline\n",
    "\n",
    "def sigmoid(x):\n",
    "    y = []\n",
    "    for val in x:\n",
    "        y.append(1/(1+np.exp(-val)))\n",
    "    return y                  # Y axis values are calculated and using sigmoid function and retured in an array\n",
    "\n",
    "import matplotlib.pyplot as plt\n",
    "import numpy as np\n",
    "\n",
    "# x = np.arange(-10., 10., 0.1)  # Values of X axis between -10 and 10 at intervals of 0.1\n",
    "# y = sigmoid(x)\n",
    "# plt.plot(x,y)                  # Generate graph using matplotlib.pyplot\n",
    "# plt.show()"
   ]
  },
  {
   "cell_type": "code",
   "execution_count": 2,
   "id": "bcc36b63-ae62-4e2b-964e-ed8f2cac1396",
   "metadata": {},
   "outputs": [],
   "source": [
    "# Importing pandas and seaborn libraries for data manipulation and charting\n",
    "import pandas as pd\n",
    "import seaborn as sns"
   ]
  },
  {
   "cell_type": "code",
   "execution_count": 3,
   "id": "3cb013fe-7613-4766-b0f4-f23badfffaf7",
   "metadata": {},
   "outputs": [],
   "source": [
    "# Import data from CSV file\n",
    "data = pd.read_excel('churn_clean_lr_V2.xlsx')"
   ]
  },
  {
   "cell_type": "code",
   "execution_count": 4,
   "id": "35859ac4-5368-4243-99ad-630dae05430c",
   "metadata": {},
   "outputs": [],
   "source": [
    "# Function to clean column names\n",
    "\n",
    "def column_name_remove_space(df):\n",
    "    for x in df.columns:\n",
    "        if \" \" in x:\n",
    "            df = df.rename(columns={x:x.replace(\" \",\"_\").replace(\"(\",\"\")\n",
    "                                    .replace(\")\",\"\").replace(\",\",\"_\").replace(\"/\",\"_\")})\n",
    "    return df"
   ]
  },
  {
   "cell_type": "code",
   "execution_count": 5,
   "id": "aff18614-bbd6-4180-a2dd-dd2458b97f85",
   "metadata": {},
   "outputs": [
    {
     "data": {
      "text/plain": [
       "False"
      ]
     },
     "execution_count": 5,
     "metadata": {},
     "output_type": "execute_result"
    }
   ],
   "source": [
    "# Check for null values\n",
    "data.isna().any(axis=0).any()"
   ]
  },
  {
   "cell_type": "code",
   "execution_count": 6,
   "id": "d26a969c-dfa5-4758-9e7f-05bea6e1286c",
   "metadata": {},
   "outputs": [],
   "source": [
    "# pd.plotting.scatter_matrix(data[['DISTINCT_TITLES','MonthlyCharge','MINS_WATCHED','Income','DEVICE_COUNT',\n",
    "#            'DAYS_STREAM','NUMB_OF_PROFILES','ACCOUNTS','CHILDREN','AGE_IN_MONTHS']], figsize=(20, 20))\n",
    "# plt.show()"
   ]
  },
  {
   "cell_type": "raw",
   "id": "89a2651f-38d8-4542-8b87-fc205967284d",
   "metadata": {},
   "source": [
    "Observations from scatter matrix of numerical continuous data\n",
    "Looking at box plots above, we can conclude:\n",
    "\n",
    "MINS_WATCHED and DISTINCT_TITLES seems have a positive correlation. Customer with longer DISTINCT_TITLES consumes more MINS_WATCHED.\n",
    "No noticeable correlation is visible in the scatter matrix between various variables.\n",
    "Next we can check the impact of the continuous numerical variables.\n",
    "\n",
    "Charting Continuous Numerical Variables\n",
    "First we will look at the spread of the numerical data variables with respect to the churn. \n",
    "For example, what is the data spread for variable Age, when comparing those who churned out or discontinued the service to those who opted to continue. \n",
    "Similar analysis will be done for all different numerical variables we have in the data set.\n",
    "\n",
    "Let's start with plotting numerical continuous data spread."
   ]
  },
  {
   "cell_type": "code",
   "execution_count": 7,
   "id": "54f13cbf-ab47-4cbf-a26e-610feeaae946",
   "metadata": {},
   "outputs": [],
   "source": [
    "# # Declaring all the columns which will be used for creation of box plots\n",
    "\n",
    "# to_plot = ['DISTINCT_TITLES','MonthlyCharge','MINS_WATCHED','Income','DEVICE_COUNT',\n",
    "#            'DAYS_STREAM','NUMB_OF_PROFILES','ACCOUNTS','CHILDREN','AGE_IN_MONTHS']\n",
    "\n",
    "# # Creating box plots, with mean and median printed\n",
    "# sns.set(style=\"whitegrid\")\n",
    "# fig, axes = plt.subplots(ncols=1, nrows = len(to_plot), figsize = (8,7*len(to_plot)))\n",
    "# i = 0\n",
    "# for x in to_plot:\n",
    "#     g = sns.boxplot(x='CHURN',y=x,data=data, ax=axes[i])\n",
    "#     g.set_xlabel(x,fontsize=15)\n",
    "#     g.set_ylabel(\"Count\",fontsize=15)\n",
    "#     i += 1\n",
    "#     means = data.groupby('CHURN')[x].mean()\n",
    "#     medians = data.groupby('CHURN')[x].median()\n",
    "#     vertical_offset = data[x].mean() *.05\n",
    "#     for xtick in g.get_xticks():\n",
    "#         g.text(xtick,medians[xtick]-vertical_offset,\"Mean:\"+str(round(means[xtick],2))+'\\n'+\"Median:\"+str(round(medians[xtick],2)), horizontalalignment='center', color='w', weight='semibold')\n",
    "\n",
    "\n",
    "# plt.show(fig)"
   ]
  },
  {
   "cell_type": "markdown",
   "id": "57635f3d-41ab-485a-b7b9-aa4b2619ce8f",
   "metadata": {},
   "source": [
    "Observations from charts of numerical continuous data\n",
    "Looking at box plots above, we can conclude:\n",
    "\n",
    "MINS_WATCHED, Monthly Charge and DISTINCT_TITLES seems to impact the churn significantly more than other variables.\n",
    "Customers with low DISTINCT_TITLES value, high Monthly payment and low MINS_WATCHED per year consumption churn and discontinue service, more than their couterparts\n",
    "Charting Categorical Variables\n",
    "We have many catergorical variables. To analyze the churn w.r.t. to categorical variables, we will use bar charts. The chart will show percentage of customer churning out and continuing with the service in each of the categories, like how much percentage of customer discontinued/continued w.r.t. if the customer uses a tablet or not.\n",
    "\n",
    "Let's start with plotting all the categorical variables."
   ]
  },
  {
   "cell_type": "code",
   "execution_count": 8,
   "id": "3db473f1-49fc-43a3-b331-6a4bccae4554",
   "metadata": {},
   "outputs": [],
   "source": [
    "# # Declaring all the columns which will be used for creation of box plots\n",
    "\n",
    "# to_plot = ['GENDER','BILLING_PLATFORM','HAS_FREE_TRIAL','SUBSCRIPTION_PERIOD','BY_CAMPAIGN',\n",
    "#            'Tablet','SUBSCRIPTION_TYPE','HAS_ANY_KIDS_PROFILE_STREAMING','PRODUCT_SWITCH','IS_RECONNECT_PAID_TO_PAID','IS_RECONNECT_PAID_TO_TRIAL',\n",
    "#            'IS_RECONNECT_TRIAL_TO_PAID','IS_RECONNECT_TRIAL_TO_TRIAL','STREAM_SPORTS','STREAM_SERIES',\n",
    "#            'STREAM_MOVIES','PAYMENT_METHOD','PURCHASE_DEVICE_TYPE']\n",
    "\n",
    "# # Creating bar charts, with percentages printed\n",
    "# sns.set(style=\"whitegrid\", color_codes=True)\n",
    "# fig, axes = plt.subplots(ncols=1, nrows = len(to_plot), figsize = (15,5*len(to_plot)))\n",
    "# i = 0\n",
    "# for x in to_plot:\n",
    "#     d = data.groupby(x)['CHURN'].value_counts(normalize=True).mul(100).rename('Percentage').reset_index()\n",
    "#     g = sns.barplot(x=x,y='Percentage',hue='CHURN', data=d, ax=axes[i])     # Create bar chart\n",
    "#     g.set_ylim(0,100)\n",
    "#     g.set_xlabel(x,fontsize=15)\n",
    "#     g.set_ylabel(\"Percent\",fontsize=15)\n",
    "#     i += 1\n",
    "#     for p in g.patches:\n",
    "#         txt = str(p.get_height().round(2)) + '%'\n",
    "#         txt_x = p.get_x() + p.get_width()/2\n",
    "#         txt_y = p.get_height()\n",
    "#         g.text(txt_x,txt_y+1,txt)        # Printing percentages on the bars\n",
    "\n",
    "\n",
    "# plt.show(fig)\n"
   ]
  },
  {
   "cell_type": "markdown",
   "id": "b5459885-091a-49ee-8164-f7f28a4bbedb",
   "metadata": {},
   "source": [
    "Observations from charts of categorical variables\n",
    "Looking at bar charts above, we can conclude:\n",
    "\n",
    "Customer who STREAM_SPORTS and STREAM_SERIES have higher churn\n",
    "Customers who HAS_FREE_TRIAL, who are on month to month contract, who don't have HAS_ANY_KIDS_PROFILE_STREAMING, who have DSL internet and have multiple lines are more likely to churn\n",
    "Customers which pay by electronic check are more likely to churn compared to other methods\n",
    "GENDER, BILLING_PLATFORM, IS_RECONNECT_PAID_TO_PAID, IS_RECONNECT_PAID_TO_TRIAL, STREAM_MOVIES, IS_RECONNECT_TRIAL_TO_TRIAL,BY_CAMPAIGN, Tablet, PURCHASE_DEVICE_TYPE and IS_RECONNECT_TRIAL_TO_PAID seem to have low impact on the churn rate.\n",
    "Different states seems to have different churn rates\n",
    "Next we proceed to the creation of Logistic Regression model\n",
    "\n",
    "First step is to create dummy variables for the categorical data. We will use pandas get_dummies function. After creating dummy variables, we will have to normalize various column values to bring them within similar ranges. For that we will use StandardScalar from sklearn.preprocessing. With values standardized, we will split the data into training and test sets."
   ]
  },
  {
   "cell_type": "code",
   "execution_count": 9,
   "id": "913fa372-3945-42a1-8981-10f99131d386",
   "metadata": {},
   "outputs": [],
   "source": [
    "# Following columns have categorical data types and they need to be converted to dummy variables\n",
    "dummy_variable_columns = to_plot = ['GENDER','BILLING_PLATFORM','HAS_FREE_TRIAL','SUBSCRIPTION_PERIOD','BY_CAMPAIGN',\n",
    "                                    'Tablet','SUBSCRIPTION_TYPE','HAS_ANY_KIDS_PROFILE_STREAMING','PRODUCT_SWITCH','IS_RECONNECT_PAID_TO_PAID','IS_RECONNECT_PAID_TO_TRIAL',\n",
    "                                    'IS_RECONNECT_TRIAL_TO_PAID','IS_RECONNECT_TRIAL_TO_TRIAL','STREAM_SPORTS','STREAM_SERIES',\n",
    "                                    'STREAM_MOVIES','PAYMENT_METHOD','PURCHASE_DEVICE_TYPE', 'CHURN']\n",
    "\n",
    "\n",
    "# Following columns have continuous numerical data, which needs to be scaled before predictive model can be created.\n",
    "# Hence, these columns will be transformed to normalized form.\n",
    "\n",
    "to_transform = ['DISTINCT_TITLES','DAYS_SINCE_LAST_STREAM','MINS_WATCHED','Income','DEVICE_COUNT',\n",
    "                'DAYS_STREAM','NUMB_OF_PROFILES','ACCOUNTS','CHILDREN','AGE_IN_MONTHS']\n",
    "\n",
    "dummy_data_file_index = 0"
   ]
  },
  {
   "cell_type": "code",
   "execution_count": 10,
   "id": "640ee14d-cc61-45a6-859f-15bb4975eb43",
   "metadata": {},
   "outputs": [],
   "source": [
    "from sklearn.preprocessing import StandardScaler\n",
    "\n",
    "def get_dummy_data_with_output(dummy_variable_columns, data):\n",
    "    global dummy_data_file_index\n",
    "    dummy_data = pd.get_dummies(data, prefix=dummy_variable_columns, columns=dummy_variable_columns, drop_first= True)\n",
    "    dummy_data = column_name_remove_space(dummy_data)\n",
    "    dummy_data.to_csv('dummy_var_data'+str(dummy_data_file_index)+'.csv', index=False)\n",
    "    y = dummy_data['CHURN_Yes']\n",
    "    dummy_data.drop(columns=['CHURN_Yes'], inplace=True)\n",
    "    sc = StandardScaler()\n",
    "    dummy_data.loc[:,to_transform] = sc.fit_transform(dummy_data.loc[:,to_transform])\n",
    "    dummy_data_file_index += 1\n",
    "    return y, dummy_data\n",
    "\n",
    "y, dummy_data = get_dummy_data_with_output(dummy_variable_columns, data)"
   ]
  },
  {
   "cell_type": "code",
   "execution_count": 11,
   "id": "b3928f14-908e-4988-9d53-c779394d6f05",
   "metadata": {},
   "outputs": [],
   "source": [
    "# Starting with imports\n",
    "\n",
    "from sklearn.model_selection import train_test_split\n",
    "from sklearn.linear_model import LogisticRegression\n",
    "from sklearn.metrics import confusion_matrix, accuracy_score, classification_report\n",
    "import statsmodels.api as sm\n",
    "from sklearn.metrics import roc_curve\n",
    "from sklearn.metrics import roc_auc_score"
   ]
  },
  {
   "cell_type": "code",
   "execution_count": 12,
   "id": "e06003d3-8c08-45b0-9f48-4bd8a8aad44a",
   "metadata": {},
   "outputs": [],
   "source": [
    "# Split the training and test set 7:3 \n",
    "X_train, X_test, y_train, y_test = train_test_split(dummy_data,y,test_size=.3, random_state=0)"
   ]
  },
  {
   "cell_type": "code",
   "execution_count": 13,
   "id": "c47aaca0-a0d7-41c4-8a0d-8f1a8fac549d",
   "metadata": {},
   "outputs": [],
   "source": [
    "# Creating a function to create prediction model based on statsmodel library and\n",
    "# print details like model Summary, Confusion Matrix and Accuracy Score based on predicted values using test set\n",
    "\n",
    "def get_sm_model(y_train,X_train, X_test):\n",
    "    X_train = sm.add_constant(X_train)\n",
    "    X_test = sm.add_constant(X_test)\n",
    "    logit_model=sm.Logit(y_train,X_train)\n",
    "    model=logit_model.fit()\n",
    "    print(model.summary())\n",
    "    y_hat = list(map(round, model.predict(X_test)))\n",
    "    arr = np.c_[y_hat, y_test]\n",
    "    print('\\nPrinting predicted and actual values:\\n',arr)\n",
    "    print('Confusion Matrix \\n',confusion_matrix(y_test, y_hat))\n",
    "    print('Accuracy Score: ',accuracy_score(y_test, y_hat))\n",
    "    return model, arr\n",
    "\n",
    "# Creating a function to create prediction model based on sklearn library and\n",
    "# print details like model Summary, Confusion Matrix and Accuracy Score based on predicted values using test set\n",
    "\n",
    "def get_sk_model(y_train,X_train, X_test):\n",
    "    model = LogisticRegression(max_iter=100000000)\n",
    "    model.fit(X_train, y_train)\n",
    "    arr = np.c_[X_train.columns.tolist(),model.coef_[0]]\n",
    "    intercept = model.intercept_[0]\n",
    "    print('\\nPrinting model coefficients and intercept summary for sklearn model:\\n',arr, model.intercept_)\n",
    "    y_pred = model.predict(X_test)\n",
    "    print('\\nPrinting predicted and actual values from sklearn:\\n',np.c_[y_pred, y_test])\n",
    "    print('Confusion Matrix from sklearn\\n',confusion_matrix(y_test, y_pred))\n",
    "    plt.matshow(confusion_matrix(y_test, y_pred))\n",
    "    plt.title('Confusion matrix')\n",
    "    plt.colorbar()\n",
    "    plt.ylabel('True label')\n",
    "    plt.xlabel('Predicted label')\n",
    "    plt.grid(b=None)\n",
    "    plt.show()\n",
    "    print('Accuracy Scores from sklearn:\\n',accuracy_score(y_test, y_pred))\n",
    "    print('Classification Report from sklearn:\\n',classification_report(y_test, y_pred))\n",
    "    return model, arr, intercept\n",
    "\n",
    "\n",
    "# Function to create AUC chart and print AUC score.\n",
    "# AUC score closer to 1 is considered a good model\n",
    "# Auc score of 0.5 represents are model which is no\n",
    "# better than a random guess with 50% chance of predicting the right outcome\n",
    "\n",
    "from sklearn.metrics import roc_curve\n",
    "def roc(model, X_test, y_test):\n",
    "    probs = model.predict_proba(X_test)\n",
    "    fpr, tpr, _ = roc_curve(y_test, probs[:,1])\n",
    "    plt.plot(fpr, tpr, marker='.')\n",
    "    plt.xlabel('False Positive Rate')\n",
    "    plt.ylabel('True Positive Rate')\n",
    "    plt.show()\n",
    "    print('AUC: %.3f' % roc_auc_score(y_test, probs[:,1]))"
   ]
  },
  {
   "cell_type": "code",
   "execution_count": 14,
   "id": "3fe1140e-ae11-434b-9c43-6faa563645a5",
   "metadata": {},
   "outputs": [
    {
     "name": "stderr",
     "output_type": "stream",
     "text": [
      "c:\\Users\\ciafa001\\AppData\\Local\\Programs\\Python\\Python39\\lib\\site-packages\\statsmodels\\discrete\\discrete_model.py:1819: RuntimeWarning: overflow encountered in exp\n",
      "  return 1/(1+np.exp(-X))\n",
      "c:\\Users\\ciafa001\\AppData\\Local\\Programs\\Python\\Python39\\lib\\site-packages\\statsmodels\\discrete\\discrete_model.py:1872: RuntimeWarning: divide by zero encountered in log\n",
      "  return np.sum(np.log(self.cdf(q*np.dot(X,params))))\n",
      "c:\\Users\\ciafa001\\AppData\\Local\\Programs\\Python\\Python39\\lib\\site-packages\\statsmodels\\base\\model.py:592: HessianInversionWarning: Inverting hessian failed, no bse or cov_params available\n",
      "  warnings.warn('Inverting hessian failed, no bse or cov_params '\n",
      "c:\\Users\\ciafa001\\AppData\\Local\\Programs\\Python\\Python39\\lib\\site-packages\\statsmodels\\base\\model.py:592: HessianInversionWarning: Inverting hessian failed, no bse or cov_params available\n",
      "  warnings.warn('Inverting hessian failed, no bse or cov_params '\n",
      "C:\\Users\\ciafa001\\AppData\\Local\\Temp\\12\\ipykernel_9900\\2153310723.py:34: MatplotlibDeprecationWarning: The 'b' parameter of grid() has been renamed 'visible' since Matplotlib 3.5; support for the old name will be dropped two minor releases later.\n",
      "  plt.grid(b=None)\n"
     ]
    },
    {
     "name": "stdout",
     "output_type": "stream",
     "text": [
      "Optimization terminated successfully.\n",
      "         Current function value: inf\n",
      "         Iterations 9\n",
      "                           Logit Regression Results                           \n",
      "==============================================================================\n",
      "Dep. Variable:              CHURN_Yes   No. Observations:                 7000\n",
      "Model:                          Logit   Df Residuals:                     6964\n",
      "Method:                           MLE   Df Model:                           35\n",
      "Date:                Fri, 09 Sep 2022   Pseudo R-squ.:                     inf\n",
      "Time:                        16:54:57   Log-Likelihood:                   -inf\n",
      "converged:                       True   LL-Null:                        0.0000\n",
      "Covariance Type:            nonrobust   LLR p-value:                     1.000\n",
      "========================================================================================================\n",
      "                                           coef    std err          z      P>|z|      [0.025      0.975]\n",
      "--------------------------------------------------------------------------------------------------------\n",
      "const                                   -2.9394      0.974     -3.019      0.003      -4.848      -1.031\n",
      "ACCOUNTS                                 0.0149      0.046      0.320      0.749      -0.076       0.106\n",
      "CHILDREN                                -0.1002      0.190     -0.527      0.598      -0.473       0.272\n",
      "AGE_IN_MONTHS                            0.0635      0.194      0.328      0.743      -0.316       0.443\n",
      "Income                                   0.0117      0.046      0.254      0.799      -0.078       0.102\n",
      "DEVICE_COUNT                            -0.0165      0.047     -0.350      0.727      -0.109       0.076\n",
      "DAYS_STREAM                             -0.0397      0.047     -0.849      0.396      -0.131       0.052\n",
      "NUMB_OF_PROFILES                         0.0851      0.047      1.822      0.068      -0.006       0.177\n",
      "DISTINCT_TITLES                         -6.4826      6.059     -1.070      0.285     -18.359       5.394\n",
      "DAYS_SINCE_LAST_STREAM                   1.4363      0.369      3.889      0.000       0.712       2.160\n",
      "MINS_WATCHED                             3.3424      6.110      0.547      0.584      -8.634      15.318\n",
      "GENDER_Male                              0.0452      0.198      0.228      0.819      -0.343       0.433\n",
      "BILLING_PLATFORM_APPLE                  -0.0439      0.149     -0.295      0.768      -0.336       0.248\n",
      "BILLING_PLATFORM_DIRECT                 -0.0197      0.130     -0.151      0.880      -0.275       0.235\n",
      "BILLING_PLATFORM_GOOGLE                 -0.1928      0.147     -1.308      0.191      -0.482       0.096\n",
      "HAS_FREE_TRIAL_Yes                       1.1710      0.125      9.333      0.000       0.925       1.417\n",
      "SUBSCRIPTION_PERIOD_One_year            -3.5338      0.159    -22.258      0.000      -3.845      -3.223\n",
      "SUBSCRIPTION_PERIOD_Two_Year            -3.5873      0.154    -23.313      0.000      -3.889      -3.286\n",
      "BY_CAMPAIGN_Yes                          0.1669      0.094      1.780      0.075      -0.017       0.351\n",
      "Tablet_Yes                              -0.0304      0.102     -0.298      0.766      -0.230       0.170\n",
      "SUBSCRIPTION_TYPE_Combo                  0.4534      1.085      0.418      0.676      -1.673       2.580\n",
      "SUBSCRIPTION_TYPE_Standalone            -0.8785      0.299     -2.935      0.003      -1.465      -0.292\n",
      "HAS_ANY_KIDS_PROFILE_STREAMING_Yes      -0.4253      0.164     -2.591      0.010      -0.747      -0.104\n",
      "PRODUCT_SWITCH_Yes                       0.5407      0.187      2.897      0.004       0.175       0.907\n",
      "IS_RECONNECT_PAID_TO_PAID_Yes           -0.3634      0.217     -1.675      0.094      -0.789       0.062\n",
      "IS_RECONNECT_PAID_TO_TRIAL_Yes           0.0226      0.181      0.125      0.900      -0.331       0.377\n",
      "IS_RECONNECT_TRIAL_TO_PAID_Yes          -0.0121      0.187     -0.065      0.949      -0.379       0.355\n",
      "IS_RECONNECT_TRIAL_TO_TRIAL_Yes         -0.1563      0.138     -1.133      0.257      -0.427       0.114\n",
      "STREAM_SPORTS_Yes                        1.2663      0.422      2.998      0.003       0.438       2.094\n",
      "STREAM_SERIES_Yes                        1.4132      0.365      3.868      0.000       0.697       2.129\n",
      "STREAM_MOVIES_Yes                        0.1752      0.095      1.841      0.066      -0.011       0.362\n",
      "PAYMENT_METHOD_Credit_Card_automatic     0.2849      0.144      1.975      0.048       0.002       0.568\n",
      "PAYMENT_METHOD_Electronic_Check          0.6827      0.129      5.286      0.000       0.430       0.936\n",
      "PAYMENT_METHOD_Mailed_Check              0.2610      0.140      1.862      0.063      -0.014       0.536\n",
      "PURCHASE_DEVICE_TYPE_Desktop            -0.2471      0.114     -2.168      0.030      -0.471      -0.024\n",
      "PURCHASE_DEVICE_TYPE_Mobile             -0.1898      0.115     -1.655      0.098      -0.415       0.035\n",
      "========================================================================================================\n",
      "\n",
      "Possibly complete quasi-separation: A fraction 0.11 of observations can be\n",
      "perfectly predicted. This might indicate that there is complete\n",
      "quasi-separation. In this case some parameters will not be identified.\n",
      "\n",
      "Printing predicted and actual values:\n",
      " [[0 0]\n",
      " [0 0]\n",
      " [1 1]\n",
      " ...\n",
      " [0 0]\n",
      " [0 0]\n",
      " [0 0]]\n",
      "Confusion Matrix \n",
      " [[2048  153]\n",
      " [ 158  641]]\n",
      "Accuracy Score:  0.8963333333333333\n",
      "\n",
      "Printing model coefficients and intercept summary for sklearn model:\n",
      " [['ACCOUNTS' '0.014486302934963556']\n",
      " ['CHILDREN' '0.036695781320012305']\n",
      " ['AGE_IN_MONTHS' '-0.07564725107764339']\n",
      " ['Income' '0.010639168581792974']\n",
      " ['DEVICE_COUNT' '-0.015924236120184197']\n",
      " ['DAYS_STREAM' '-0.036387411636466103']\n",
      " ['NUMB_OF_PROFILES' '0.08158587709612723']\n",
      " ['DISTINCT_TITLES' '-1.851361954339128']\n",
      " ['DAYS_SINCE_LAST_STREAM' '1.6804533888996942']\n",
      " ['MINS_WATCHED' '-1.2413584781785896']\n",
      " ['GENDER_Male' '0.1676012064266989']\n",
      " ['BILLING_PLATFORM_APPLE' '-0.03363739218081194']\n",
      " ['BILLING_PLATFORM_DIRECT' '-0.012641754066157817']\n",
      " ['BILLING_PLATFORM_GOOGLE' '-0.17558395513275077']\n",
      " ['HAS_FREE_TRIAL_Yes' '1.1183197857823275']\n",
      " ['SUBSCRIPTION_PERIOD_One_year' '-3.376154501614234']\n",
      " ['SUBSCRIPTION_PERIOD_Two_Year' '-3.431634491630565']\n",
      " ['BY_CAMPAIGN_Yes' '0.1601310569722786']\n",
      " ['Tablet_Yes' '-0.03264746838309858']\n",
      " ['SUBSCRIPTION_TYPE_Combo' '1.1963573322914445']\n",
      " ['SUBSCRIPTION_TYPE_Standalone' '-1.0619169424208281']\n",
      " ['HAS_ANY_KIDS_PROFILE_STREAMING_Yes' '-0.40412273591186293']\n",
      " ['PRODUCT_SWITCH_Yes' '0.4601844669048212']\n",
      " ['IS_RECONNECT_PAID_TO_PAID_Yes' '-0.21497008240919172']\n",
      " ['IS_RECONNECT_PAID_TO_TRIAL_Yes' '0.06605554440859575']\n",
      " ['IS_RECONNECT_TRIAL_TO_PAID_Yes' '0.07939557857098954']\n",
      " ['IS_RECONNECT_TRIAL_TO_TRIAL_Yes' '-0.2239978127358024']\n",
      " ['STREAM_SPORTS_Yes' '1.406625684704668']\n",
      " ['STREAM_SERIES_Yes' '1.4502908003983943']\n",
      " ['STREAM_MOVIES_Yes' '0.1656056124341415']\n",
      " ['PAYMENT_METHOD_Credit_Card_automatic' '0.2604087465053942']\n",
      " ['PAYMENT_METHOD_Electronic_Check' '0.6447253210012575']\n",
      " ['PAYMENT_METHOD_Mailed_Check' '0.2377505920771793']\n",
      " ['PURCHASE_DEVICE_TYPE_Desktop' '-0.23291635995531781']\n",
      " ['PURCHASE_DEVICE_TYPE_Mobile' '-0.17933352724644872']] [-3.28576664]\n",
      "\n",
      "Printing predicted and actual values from sklearn:\n",
      " [[0 0]\n",
      " [0 0]\n",
      " [1 1]\n",
      " ...\n",
      " [0 0]\n",
      " [0 0]\n",
      " [0 0]]\n",
      "Confusion Matrix from sklearn\n",
      " [[2048  153]\n",
      " [ 161  638]]\n"
     ]
    },
    {
     "data": {
      "image/png": "[encoded data removed]",
      "text/plain": [
       "<Figure size 288x288 with 2 Axes>"
      ]
     },
     "metadata": {
      "needs_background": "light"
     },
     "output_type": "display_data"
    },
    {
     "name": "stdout",
     "output_type": "stream",
     "text": [
      "Accuracy Scores from sklearn:\n",
      " 0.8953333333333333\n",
      "Classification Report from sklearn:\n",
      "               precision    recall  f1-score   support\n",
      "\n",
      "           0       0.93      0.93      0.93      2201\n",
      "           1       0.81      0.80      0.80       799\n",
      "\n",
      "    accuracy                           0.90      3000\n",
      "   macro avg       0.87      0.86      0.87      3000\n",
      "weighted avg       0.90      0.90      0.90      3000\n",
      "\n"
     ]
    },
    {
     "data": {
      "image/png": "[encoded data removed]",
      "text/plain": [
       "<Figure size 432x288 with 1 Axes>"
      ]
     },
     "metadata": {
      "needs_background": "light"
     },
     "output_type": "display_data"
    },
    {
     "name": "stdout",
     "output_type": "stream",
     "text": [
      "AUC: 0.956\n"
     ]
    }
   ],
   "source": [
    "# Run statsmodel function\n",
    "get_sm_model(y_train,X_train, X_test);\n",
    "# Run sklearn model\n",
    "model, arr, intercept = get_sk_model(y_train,X_train, X_test);\n",
    "# Run AUC\n",
    "roc(model, X_test, y_test);"
   ]
  },
  {
   "cell_type": "markdown",
   "id": "33a8a7e6-2876-44da-be67-c0b1e810e45b",
   "metadata": {},
   "source": [
    "Analysis of statsmodels summary and variable significance\n",
    "Printed above are the details from predictive models created using statsmodels and sklearn. In the model summary generated by statsmodels, we can see the p-value of various variables and determine which variables are significant for predictive modeling. This will help determine list of variables which can be safely removed without any impact on the overall accuracy and confusion matrix.\n",
    "\n",
    "As can be seen, with the current initial full variable set model, we have an overall prediction accuracy rate of 89%. Confusion matrixs shows that 92.7% (Specificity) service continuations and 79.1% (Sensitivity) service discontinuations can be accurately predicted.\n",
    "\n",
    "To arrive at the reduced model, we can remove the variables which have higher p-values and use only those variables which have lower p-values. Generally, 0.25 threshold can be used for p-value comparison ( Reference : https://personal.utdallas.edu/~pkc022000/6390/SP06/NOTES/Logistic_Regression_4.pdf ). This gives us a list of independent variables to be used in reduced model.\n",
    "\n",
    "Reduced Model\n",
    "Reduced model will have following independent variables. Other variables have been removed based on their low significance and p-values.\n",
    "\n",
    "'CHURN','DISTINCT_TITLES','NUMB_OF_PROFILES','MonthlyCharge','MINS_WATCHED', 'BILLING_PLATFORM', 'GENDER','HAS_FREE_TRIAL','SUBSCRIPTION_PERIOD','AGE_IN_MONTHS','CHILDREN', 'BY_CAMPAIGN','SUBSCRIPTION_TYPE','HAS_ANY_KIDS_PROFILE_STREAMING', 'STREAM_SERIES','STREAM_MOVIES','PAYMENT_METHOD'\n",
    "\n",
    "Based on the chart analysis, we can conclude that:\n",
    "\n",
    "MINS_WATCHED, Monthly Charge and DISTINCT_TITLES seems to impact the churn significantly. This in line with the observation on p-values.\n",
    "STREAM_SPORTS and STREAM_SERIES customer have higher churn rate. This in line with the observation on p-values.\n",
    "HAS_FREE_TRIAL, NUMB_OF_PROFILES, HAS_ANY_KIDS_PROFILE_STREAMING, SUBSCRIPTION_TYPE, PAYMENT_METHOD and PRODUCT_SWITCH are more likely to discontinue service. This in line with the observation on p-values.\n",
    "Different states have different churn rates and many dummy variables have significant p-value to continue in the model\n",
    "Remaining columns have less impact on the churn.\n",
    "With the knowledge about significant variables, we arrived at reduced data set and removed less significant variables. With this step complete, we will create dummy variables, split test and training set and run the statsmodel based model to check the summary, accuracy scope and confusion matrix.\n",
    "\n",
    "Let's run and analyze our reduced model now."
   ]
  },
  {
   "cell_type": "code",
   "execution_count": 15,
   "id": "c5673b22-0a45-4059-8a60-54b847b9a3c7",
   "metadata": {},
   "outputs": [
    {
     "name": "stderr",
     "output_type": "stream",
     "text": [
      "c:\\Users\\ciafa001\\AppData\\Local\\Programs\\Python\\Python39\\lib\\site-packages\\statsmodels\\discrete\\discrete_model.py:1819: RuntimeWarning: overflow encountered in exp\n",
      "  return 1/(1+np.exp(-X))\n",
      "c:\\Users\\ciafa001\\AppData\\Local\\Programs\\Python\\Python39\\lib\\site-packages\\statsmodels\\discrete\\discrete_model.py:1872: RuntimeWarning: divide by zero encountered in log\n",
      "  return np.sum(np.log(self.cdf(q*np.dot(X,params))))\n",
      "c:\\Users\\ciafa001\\AppData\\Local\\Programs\\Python\\Python39\\lib\\site-packages\\statsmodels\\base\\model.py:592: HessianInversionWarning: Inverting hessian failed, no bse or cov_params available\n",
      "  warnings.warn('Inverting hessian failed, no bse or cov_params '\n",
      "c:\\Users\\ciafa001\\AppData\\Local\\Programs\\Python\\Python39\\lib\\site-packages\\statsmodels\\base\\model.py:592: HessianInversionWarning: Inverting hessian failed, no bse or cov_params available\n",
      "  warnings.warn('Inverting hessian failed, no bse or cov_params '\n",
      "C:\\Users\\ciafa001\\AppData\\Local\\Temp\\12\\ipykernel_9900\\2153310723.py:34: MatplotlibDeprecationWarning: The 'b' parameter of grid() has been renamed 'visible' since Matplotlib 3.5; support for the old name will be dropped two minor releases later.\n",
      "  plt.grid(b=None)\n"
     ]
    },
    {
     "name": "stdout",
     "output_type": "stream",
     "text": [
      "Optimization terminated successfully.\n",
      "         Current function value: inf\n",
      "         Iterations 9\n",
      "                           Logit Regression Results                           \n",
      "==============================================================================\n",
      "Dep. Variable:              CHURN_Yes   No. Observations:                 7000\n",
      "Model:                          Logit   Df Residuals:                     6977\n",
      "Method:                           MLE   Df Model:                           22\n",
      "Date:                Fri, 09 Sep 2022   Pseudo R-squ.:                     inf\n",
      "Time:                        16:54:58   Log-Likelihood:                   -inf\n",
      "converged:                       True   LL-Null:                        0.0000\n",
      "Covariance Type:            nonrobust   LLR p-value:                     1.000\n",
      "========================================================================================================\n",
      "                                           coef    std err          z      P>|z|      [0.025      0.975]\n",
      "--------------------------------------------------------------------------------------------------------\n",
      "const                                   -1.5057      0.258     -5.830      0.000      -2.012      -0.999\n",
      "DISTINCT_TITLES                         -9.1707      1.601     -5.728      0.000     -12.309      -6.033\n",
      "NUMB_OF_PROFILES                         0.0875      0.046      1.916      0.055      -0.002       0.177\n",
      "DAYS_SINCE_LAST_STREAM                   1.8761      0.151     12.446      0.000       1.581       2.172\n",
      "MINS_WATCHED                             6.1470      1.604      3.833      0.000       3.004       9.290\n",
      "AGE_IN_MONTHS                            0.1567      0.068      2.289      0.022       0.023       0.291\n",
      "CHILDREN                                -0.1792      0.068     -2.636      0.008      -0.312      -0.046\n",
      "BILLING_PLATFORM_APPLE                   0.0261      0.147      0.178      0.859      -0.261       0.314\n",
      "BILLING_PLATFORM_DIRECT                  0.0350      0.128      0.274      0.784      -0.216       0.286\n",
      "BILLING_PLATFORM_GOOGLE                 -0.1164      0.145     -0.803      0.422      -0.400       0.168\n",
      "GENDER_Male                             -0.0406      0.103     -0.394      0.694      -0.243       0.161\n",
      "HAS_FREE_TRIAL_Yes                       1.0980      0.123      8.939      0.000       0.857       1.339\n",
      "SUBSCRIPTION_PERIOD_One_year            -3.3873      0.153    -22.121      0.000      -3.687      -3.087\n",
      "SUBSCRIPTION_PERIOD_Two_Year            -3.4909      0.151    -23.169      0.000      -3.786      -3.196\n",
      "BY_CAMPAIGN_Yes                          0.1876      0.092      2.042      0.041       0.008       0.368\n",
      "SUBSCRIPTION_TYPE_Combo                 -0.2758      0.294     -0.939      0.348      -0.851       0.300\n",
      "SUBSCRIPTION_TYPE_Standalone            -1.2184      0.164     -7.443      0.000      -1.539      -0.898\n",
      "HAS_ANY_KIDS_PROFILE_STREAMING_Yes      -0.3945      0.159     -2.484      0.013      -0.706      -0.083\n",
      "STREAM_SERIES_Yes                        0.4747      0.116      4.077      0.000       0.246       0.703\n",
      "STREAM_MOVIES_Yes                        0.1717      0.093      1.841      0.066      -0.011       0.354\n",
      "PAYMENT_METHOD_Credit_Card_automatic     0.2459      0.141      1.746      0.081      -0.030       0.522\n",
      "PAYMENT_METHOD_Electronic_Check          0.6302      0.126      5.005      0.000       0.383       0.877\n",
      "PAYMENT_METHOD_Mailed_Check              0.2355      0.137      1.720      0.085      -0.033       0.504\n",
      "========================================================================================================\n",
      "\n",
      "Printing predicted and actual values:\n",
      " [[0 0]\n",
      " [0 0]\n",
      " [1 1]\n",
      " ...\n",
      " [0 0]\n",
      " [0 0]\n",
      " [0 0]]\n",
      "Confusion Matrix \n",
      " [[2047  154]\n",
      " [ 164  635]]\n",
      "Accuracy Score:  0.894\n",
      "\n",
      "Printing model coefficients and intercept summary for sklearn model:\n",
      " [['DISTINCT_TITLES' '-2.9143898848298866']\n",
      " ['NUMB_OF_PROFILES' '0.0879243270812381']\n",
      " ['DAYS_SINCE_LAST_STREAM' '2.2906712743271944']\n",
      " ['MINS_WATCHED' '-0.05688588575033264']\n",
      " ['AGE_IN_MONTHS' '-0.03549153970463186']\n",
      " ['CHILDREN' '0.011827587784748725']\n",
      " ['BILLING_PLATFORM_APPLE' '0.04385364765057461']\n",
      " ['BILLING_PLATFORM_DIRECT' '0.05628710289415106']\n",
      " ['BILLING_PLATFORM_GOOGLE' '-0.08696522162572026']\n",
      " ['GENDER_Male' '0.13280703010995512']\n",
      " ['HAS_FREE_TRIAL_Yes' '1.042465713822596']\n",
      " ['SUBSCRIPTION_PERIOD_One_year' '-3.2271511198499923']\n",
      " ['SUBSCRIPTION_PERIOD_Two_Year' '-3.316663607426982']\n",
      " ['BY_CAMPAIGN_Yes' '0.18460984206319225']\n",
      " ['SUBSCRIPTION_TYPE_Combo' '0.7296957931142125']\n",
      " ['SUBSCRIPTION_TYPE_Standalone' '-1.5115335039755329']\n",
      " ['HAS_ANY_KIDS_PROFILE_STREAMING_Yes' '-0.38049205854765344']\n",
      " ['STREAM_SERIES_Yes' '0.45879989278921113']\n",
      " ['STREAM_MOVIES_Yes' '0.15688913638600985']\n",
      " ['PAYMENT_METHOD_Credit_Card_automatic' '0.22918409902630343']\n",
      " ['PAYMENT_METHOD_Electronic_Check' '0.6011907576827561']\n",
      " ['PAYMENT_METHOD_Mailed_Check' '0.21902393610741916']] [-1.76424426]\n",
      "\n",
      "Printing predicted and actual values from sklearn:\n",
      " [[0 0]\n",
      " [0 0]\n",
      " [1 1]\n",
      " ...\n",
      " [0 0]\n",
      " [0 0]\n",
      " [0 0]]\n",
      "Confusion Matrix from sklearn\n",
      " [[2053  148]\n",
      " [ 166  633]]\n"
     ]
    },
    {
     "data": {
      "image/png": "[encoded data removed]",
      "text/plain": [
       "<Figure size 288x288 with 2 Axes>"
      ]
     },
     "metadata": {
      "needs_background": "light"
     },
     "output_type": "display_data"
    },
    {
     "name": "stdout",
     "output_type": "stream",
     "text": [
      "Accuracy Scores from sklearn:\n",
      " 0.8953333333333333\n",
      "Classification Report from sklearn:\n",
      "               precision    recall  f1-score   support\n",
      "\n",
      "           0       0.93      0.93      0.93      2201\n",
      "           1       0.81      0.79      0.80       799\n",
      "\n",
      "    accuracy                           0.90      3000\n",
      "   macro avg       0.87      0.86      0.87      3000\n",
      "weighted avg       0.89      0.90      0.89      3000\n",
      "\n"
     ]
    },
    {
     "data": {
      "image/png": "[encoded data removed]",
      "text/plain": [
       "<Figure size 432x288 with 1 Axes>"
      ]
     },
     "metadata": {
      "needs_background": "light"
     },
     "output_type": "display_data"
    },
    {
     "name": "stdout",
     "output_type": "stream",
     "text": [
      "AUC: 0.954\n"
     ]
    }
   ],
   "source": [
    "data_reduced = data[['CHURN','DISTINCT_TITLES','NUMB_OF_PROFILES','DAYS_SINCE_LAST_STREAM','MINS_WATCHED'\n",
    "                    ,'BILLING_PLATFORM', 'GENDER','HAS_FREE_TRIAL','SUBSCRIPTION_PERIOD'\n",
    "                    ,'AGE_IN_MONTHS','CHILDREN', 'BY_CAMPAIGN','SUBSCRIPTION_TYPE'\n",
    "                    ,'HAS_ANY_KIDS_PROFILE_STREAMING', 'STREAM_SERIES','STREAM_MOVIES','PAYMENT_METHOD']]\n",
    "\n",
    "dummy_variable_columns = ['CHURN','BILLING_PLATFORM','GENDER','HAS_FREE_TRIAL','SUBSCRIPTION_PERIOD', 'BY_CAMPAIGN','SUBSCRIPTION_TYPE','HAS_ANY_KIDS_PROFILE_STREAMING',\n",
    "                          'STREAM_SERIES','STREAM_MOVIES','PAYMENT_METHOD']\n",
    "\n",
    "to_transform = ['NUMB_OF_PROFILES','DAYS_SINCE_LAST_STREAM','MINS_WATCHED','DISTINCT_TITLES','AGE_IN_MONTHS','CHILDREN'\n",
    "               ]\n",
    "\n",
    "data_diff = [i for i in data.columns.tolist() + data_reduced.columns.tolist() if i not in data.columns.tolist() or i not in data_reduced.columns.tolist()]\n",
    "\n",
    "y, dummy_data_reduced = get_dummy_data_with_output(dummy_variable_columns, data_reduced)\n",
    "X_train, X_test, y_train, y_test = train_test_split(dummy_data_reduced,y,test_size=.3, random_state=0)\n",
    "# Run statsmodel on reduced data set\n",
    "get_sm_model(y_train,X_train, X_test);\n",
    "# Run sklearn model on reduced data set\n",
    "model, arr, intercept = get_sk_model(y_train,X_train, X_test);\n",
    "roc(model, X_test, y_test);"
   ]
  },
  {
   "cell_type": "code",
   "execution_count": 16,
   "id": "1bed30c0",
   "metadata": {},
   "outputs": [
    {
     "name": "stdout",
     "output_type": "stream",
     "text": [
      "AxesSubplot(0.125,0.125;0.775x0.755)\n"
     ]
    },
    {
     "data": {
      "image/png": "[encoded data removed]",
      "text/plain": [
       "<Figure size 432x288 with 1 Axes>"
      ]
     },
     "metadata": {
      "needs_background": "light"
     },
     "output_type": "display_data"
    }
   ],
   "source": [
    "# To get the weights of all the variables\n",
    "weights = pd.Series(model.coef_[0],\n",
    "                 index=dummy_data_reduced.columns.values)\n",
    "print (weights.sort_values(ascending = False)[:10].plot(kind='barh'))"
   ]
  },
  {
   "cell_type": "code",
   "execution_count": 17,
   "id": "bd859ef2-cc96-4138-bb22-8ffa4b704f57",
   "metadata": {},
   "outputs": [
    {
     "data": {
      "text/plain": [
       "Index(['CHURN', 'DISTINCT_TITLES', 'NUMB_OF_PROFILES',\n",
       "       'DAYS_SINCE_LAST_STREAM', 'MINS_WATCHED', 'BILLING_PLATFORM', 'GENDER',\n",
       "       'HAS_FREE_TRIAL', 'SUBSCRIPTION_PERIOD', 'AGE_IN_MONTHS', 'CHILDREN',\n",
       "       'BY_CAMPAIGN', 'SUBSCRIPTION_TYPE', 'HAS_ANY_KIDS_PROFILE_STREAMING',\n",
       "       'STREAM_SERIES', 'STREAM_MOVIES', 'PAYMENT_METHOD'],\n",
       "      dtype='object')"
      ]
     },
     "execution_count": 17,
     "metadata": {},
     "output_type": "execute_result"
    }
   ],
   "source": [
    "data_reduced.columns"
   ]
  },
  {
   "cell_type": "markdown",
   "id": "fc017913",
   "metadata": {},
   "source": [
    "PARA MI HASTA ACÁ ESTÁ BIEN. IMPRIMIENDO OBVIO LA ECUACIÓN DE DSP PERO QCYO PASAPALABRA"
   ]
  },
  {
   "cell_type": "code",
   "execution_count": 18,
   "id": "a739e498-ee0d-4ce0-bc20-1223f3fd7dd7",
   "metadata": {},
   "outputs": [
    {
     "name": "stdout",
     "output_type": "stream",
     "text": [
      "DAYS_SINCE_LAST_STREAM   : Odds Ratio Reduction with unit increase: -69.39% Odds Ratio Reduction with unit decrease: 40.96%\n",
      "DAYS_SINCE_LAST_STREAM   : Odds Ratio Reduction with unit increase: -271136.14% Odds Ratio Reduction with unit decrease: 99.96%\n",
      "DAYS_SINCE_LAST_STREAM   : Odds Ratio Reduction with unit increase: -19349.05% Odds Ratio Reduction with unit decrease: 99.49%\n"
     ]
    }
   ],
   "source": [
    "# Function to calculate the reduction percentage in odds ratio\n",
    "def impact(coeff, field,x, categorical=False):\n",
    "    if categorical:\n",
    "        exp = np.exp(x*coeff)\n",
    "        print ( field, ': Odds Ratio Reduction : '+str(round((1 - exp)*100,2 ))+'%')\n",
    "    else:\n",
    "        exp1 = np.exp(x*coeff/data_reduced['DAYS_SINCE_LAST_STREAM'].std())\n",
    "        exp2 = np.exp(-1*x*coeff/data_reduced['DAYS_SINCE_LAST_STREAM'].std())\n",
    "        print ( field, ': Odds Ratio Reduction with unit increase: '+str(round((1 - exp1)*100,2 ))+'%', 'Odds Ratio Reduction with unit decrease: '+str(round((1 - exp2)*100,2 ))+'%')\n",
    "\n",
    "        \n",
    "#impact(-3.15,'Tenure',1)\n",
    "impact(2.29,'DAYS_SINCE_LAST_STREAM  ',1)\n",
    "impact(2.29,'DAYS_SINCE_LAST_STREAM  ',15)\n",
    "impact(2.29,'DAYS_SINCE_LAST_STREAM  ',10)\n",
    "#impact(-0.02,'Age',1)\n",
    "#impact(-2.2,'InternetService_Fiber_Optic',1,True)\n",
    "#impact(-0.62,'InternetService_None',1,True)\n",
    "#impact(-3.24,'SUBSCRIPTION_PERIOD _One_year',1,True)\n",
    "#impact(-3.33,'SUBSCRIPTION_PERIOD _Two_Year',1,True)\n",
    "#impact(-0.37,'Phone',1,True)"
   ]
  },
  {
   "cell_type": "code",
   "execution_count": 19,
   "id": "3e8ce2fd-3df2-42e2-bd37-dc60cc20fe75",
   "metadata": {},
   "outputs": [
    {
     "name": "stdout",
     "output_type": "stream",
     "text": [
      "P (Y=1|X) = 1 / (1 + exp(-1x( -2.91 x DISTINCT_TITLES  +0.09 x NUMB_OF_PROFILES  +2.29 x DAYS_SINCE_LAST_STREAM  -0.06 x MINS_WATCHED  -0.04 x AGE_IN_MONTHS  +0.01 x CHILDREN  +0.04 x BILLING_PLATFORM_APPLE  +0.06 x BILLING_PLATFORM_DIRECT  -0.09 x BILLING_PLATFORM_GOOGLE  +0.13 x GENDER_Male  +1.04 x HAS_FREE_TRIAL  -3.23 x SUBSCRIPTION_PERIOD_One_year  -3.32 x SUBSCRIPTION_PERIOD_Two_Year  +0.18 x BY_CAMPAIGN  +0.73 x SUBSCRIPTION_TYPE_Combo  -1.51 x SUBSCRIPTION_TYPE_Standalone  -0.38 x HAS_ANY_KIDS_PROFILE_STREAMING  +0.46 x STREAM_SERIES  +0.16 x STREAM_MOVIES  +0.23 x PAYMENT_METHOD_Credit_Card_automatic  +0.6 x PAYMENT_METHOD_Electronic_Check  +0.22 x PAYMENT_METHOD_Mailed_Check  -1.76)))\n"
     ]
    }
   ],
   "source": [
    "# Code to print the equation (partial, removing all State dummy variables \n",
    "# and rounding the coefficient to make it readable)\n",
    "equation = ''\n",
    "\n",
    "for a in arr:\n",
    "    if not a[0].startswith('State'):\n",
    "        new = str(round(float(a[1].replace(\"\\'\",\"\")),2))+' x '+a[0].replace(\"\\'\",\"\").replace('_Yes','')\n",
    "        if new.startswith('-'):\n",
    "            equation = equation + ' ' + new + ' '\n",
    "        else:\n",
    "            equation = equation + ' +' + new + ' '\n",
    "interceptstr = str(round(intercept,2))\n",
    "\n",
    "if interceptstr.startswith('-'):\n",
    "    equation = equation + ' ' + interceptstr\n",
    "else:\n",
    "    equation = equation + ' +' + interceptstr\n",
    "\n",
    "y = 'exp(-1x('+equation+'))'\n",
    "\n",
    "print ('P (Y=1|X) = 1 / (1 + '+y+')')"
   ]
  },
  {
   "cell_type": "code",
   "execution_count": null,
   "id": "2582ab34",
   "metadata": {},
   "outputs": [],
   "source": []
  },
  {
   "cell_type": "code",
   "execution_count": null,
   "id": "4f835b77",
   "metadata": {},
   "outputs": [],
   "source": []
  },
  {
   "cell_type": "code",
   "execution_count": null,
   "id": "437ad8ad",
   "metadata": {},
   "outputs": [],
   "source": []
  },
  {
   "cell_type": "code",
   "execution_count": null,
   "id": "0dc3263a",
   "metadata": {},
   "outputs": [],
   "source": []
  }
 ],
 "metadata": {
  "kernelspec": {
   "display_name": "Python 3.9.7 64-bit (system)",
   "language": "python",
   "name": "python3"
  },
  "language_info": {
   "codemirror_mode": {
    "name": "ipython",
    "version": 3
   },
   "file_extension": ".py",
   "mimetype": "text/x-python",
   "name": "python",
   "nbconvert_exporter": "python",
   "pygments_lexer": "ipython3",
   "version": "3.9.7"
  },
  "vscode": {
   "interpreter": {
    "hash": "5e23deaf657df8da0481726d5faa78805c0039777840256ed40762b1c99e2ca9"
   }
  }
 },
 "nbformat": 4,
 "nbformat_minor": 5
}
