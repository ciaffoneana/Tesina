{
 "cells": [
  {
   "cell_type": "code",
   "execution_count": 1,
   "id": "6f86f775-7b8b-45da-92cf-c0fd7b89b914",
   "metadata": {},
   "outputs": [],
   "source": [
    "# Importing pandas and seaborn libraries for data manipulation and charting\n",
    "import pandas as pd\n",
    "import seaborn as sns\n",
    "import matplotlib.pyplot as plt\n",
    "import numpy as np\n",
    "from sklearn.model_selection import train_test_split\n",
    "from sklearn.linear_model import LinearRegression\n",
    "from sklearn.metrics import mean_squared_error, r2_score\n",
    "import statsmodels.api as sm"
   ]
  },
  {
   "cell_type": "code",
   "execution_count": 2,
   "id": "59ae1588-b4ac-4945-8b62-558fd0772e26",
   "metadata": {},
   "outputs": [],
   "source": [
    "# Import data from CSV file\n",
    "data = pd.read_excel('churn.xlsx')"
   ]
  },
  {
   "cell_type": "code",
   "execution_count": 3,
   "id": "f24891df-03e2-410b-bc03-6f354b8a3448",
   "metadata": {},
   "outputs": [],
   "source": [
    "# Function to clean column names\n",
    "\n",
    "def column_name_remove_space(df):\n",
    "    for x in df.columns:\n",
    "        if \" \" in x:\n",
    "            df = df.rename(columns={x:x.replace(\" \",\"_\").replace(\"(\",\"\")\n",
    "                                    .replace(\")\",\"\").replace(\",\",\"_\").replace(\"/\",\"_\")})\n",
    "    return df"
   ]
  },
  {
   "cell_type": "markdown",
   "id": "af3574a0",
   "metadata": {},
   "source": [
    "Modelo Inicial"
   ]
  },
  {
   "cell_type": "code",
   "execution_count": 4,
   "id": "2bc39b65",
   "metadata": {},
   "outputs": [],
   "source": [
    "# Following columns have categorical data types and they need to be converted to dummy variables\n",
    "dummy_variable_columns = ['GENDER','BILLING_PLATFORM','HAS_FREE_TRIAL','SUBSCRIPTION_PERIOD','BY_CAMPAIGN',\n",
    "                          'Tablet','SUBSCRIPTION_TYPE','HAS_ANY_KIDS_PROFILE_STREAMING','PRODUCT_SWITCH','IS_RECONNECT_PAID_TO_PAID','IS_RECONNECT_PAID_TO_TRIAL',\n",
    "                          'IS_RECONNECT_TRIAL_TO_PAID','IS_RECONNECT_TRIAL_TO_TRIAL','STREAM_SPORTS','STREAM_SERIES',\n",
    "                          'STREAM_MOVIES','PAYMENT_METHOD','PURCHASE_DEVICE_TYPE', 'CHURN']\n",
    "\n",
    "\n",
    "# Following columns have continuous numerical data, which needs to be scaled before predictive model can be created.\n",
    "# Hence, these columns will be transformed to normalized form.\n",
    "\n",
    "to_transform = ['DISTINCT_TITLES','DAYS_SINCE_LAST_STREAM  ','MINS_WATCHED','Income','DEVICE_COUNT',\n",
    "                'DAYS_STREAM','NUMB_OF_PROFILES','ACCOUNTS','CHILDREN','AGE_IN_MONTHS']\n",
    "\n",
    "dummy_data_file_index = 0"
   ]
  },
  {
   "cell_type": "code",
   "execution_count": 5,
   "id": "3958df9e",
   "metadata": {},
   "outputs": [],
   "source": [
    "from sklearn.preprocessing import StandardScaler\n",
    "\n",
    "def get_dummy_data_with_output(dummy_variable_columns, data):\n",
    "    global dummy_data_file_index\n",
    "    dummy_data = pd.get_dummies(data, prefix=dummy_variable_columns, columns=dummy_variable_columns, drop_first= True)\n",
    "    dummy_data = column_name_remove_space(dummy_data)\n",
    "    dummy_data.to_csv('dummy_var_data'+str(dummy_data_file_index)+'.csv', index=False)\n",
    "    y = dummy_data['CHURN_Yes']\n",
    "    dummy_data.drop(columns=['CHURN_Yes'], inplace=True)\n",
    "    dummy_data_file_index += 1\n",
    "    return y, dummy_data\n",
    "\n",
    "y, dummy_data = get_dummy_data_with_output(dummy_variable_columns, data)"
   ]
  },
  {
   "cell_type": "code",
   "execution_count": 6,
   "id": "7cae4424",
   "metadata": {},
   "outputs": [],
   "source": [
    "# Split the training and test set 7:3 \n",
    "X_train, X_test, y_train, y_test = train_test_split(dummy_data,y,test_size=.3, random_state=0)"
   ]
  },
  {
   "cell_type": "code",
   "execution_count": 7,
   "id": "27324ec1",
   "metadata": {},
   "outputs": [],
   "source": [
    "# Creating a function to create prediction model based on statsmodel library and\n",
    "# print details like model Summary, Confusion Matrix and Accuracy Score based on predicted values using test set\n",
    "figsize=(8,5)\n",
    "\n",
    "def get_sm_model(y_train,X_train, X_test):\n",
    "    X_train = sm.add_constant(X_train)\n",
    "    X_test = sm.add_constant(X_test)\n",
    "    model=sm.OLS(y_train,X_train)\n",
    "    model=model.fit()\n",
    "    print(model.summary())\n",
    "    y_hat = model.predict(X_test)\n",
    "    arr = np.c_[y_hat, y_test]\n",
    "    print('\\nPrinting predicted and actual values:\\n',arr)\n",
    "    print('\\nPrinting Mean Squared Error:\\n',(np.sqrt(mean_squared_error(y_test, y_hat))))\n",
    "    print('\\nR2 Score:\\n',r2_score(y_test, y_hat))\n",
    "\n",
    "    return model, arr\n"
   ]
  },
  {
   "cell_type": "code",
   "execution_count": 8,
   "id": "a0234340",
   "metadata": {},
   "outputs": [],
   "source": [
    "# Creating a function to create prediction model based on sklearn library and\n",
    "# print details like model Summary, Confusion Matrix and Accuracy Score based on predicted values using test set\n",
    "\n",
    "def get_sk_model(y_train,X_train, X_test):\n",
    "    model = LinearRegression()\n",
    "    model.fit(X_train, y_train)\n",
    "    arr = np.c_[X_train.columns.tolist(),model.coef_]\n",
    "    intercept = model.intercept_\n",
    "    print('\\nPrinting model coefficients and intercept summary for sklearn model:\\n',arr, model.intercept_)\n",
    "    y_pred = model.predict(X_test)\n",
    "    print('\\nPrinting predicted and actual values from sklearn:\\n',np.c_[y_pred, y_test])\n",
    "    print('\\nPrinting Mean Squared Error from sklearn:\\n',(np.sqrt(mean_squared_error(y_test, y_pred))))\n",
    "    print('\\nR2 Score  from sklearn:\\n',r2_score(y_test, y_pred))\n",
    "    return model, arr, intercept"
   ]
  },
  {
   "cell_type": "code",
   "execution_count": 9,
   "id": "1ebbda9a",
   "metadata": {},
   "outputs": [
    {
     "name": "stdout",
     "output_type": "stream",
     "text": [
      "                            OLS Regression Results                            \n",
      "==============================================================================\n",
      "Dep. Variable:              CHURN_Yes   R-squared:                       0.494\n",
      "Model:                            OLS   Adj. R-squared:                  0.492\n",
      "Method:                 Least Squares   F-statistic:                     194.5\n",
      "Date:                Fri, 09 Sep 2022   Prob (F-statistic):               0.00\n",
      "Time:                        17:24:49   Log-Likelihood:                -1815.9\n",
      "No. Observations:                7000   AIC:                             3704.\n",
      "Df Residuals:                    6964   BIC:                             3951.\n",
      "Df Model:                          35                                         \n",
      "Covariance Type:            nonrobust                                         \n",
      "========================================================================================================\n",
      "                                           coef    std err          t      P>|t|      [0.025      0.975]\n",
      "--------------------------------------------------------------------------------------------------------\n",
      "const                                    0.0157      0.043      0.367      0.713      -0.068       0.099\n",
      "ACCOUNTS                                  2e-06   3.16e-06      0.632      0.527    -4.2e-06     8.2e-06\n",
      "CHILDREN                                -0.0092      0.007     -1.317      0.188      -0.023       0.005\n",
      "AGE_IN_MONTHS                            0.0086      0.007      1.197      0.231      -0.006       0.023\n",
      "Income                                8.774e-08   1.33e-07      0.658      0.510   -1.74e-07    3.49e-07\n",
      "DEVICE_COUNT                            -0.0006      0.001     -0.512      0.608      -0.003       0.002\n",
      "DAYS_STREAM                             -0.0004      0.001     -0.310      0.757      -0.003       0.002\n",
      "NUMB_OF_PROFILES                         0.0037      0.004      0.985      0.325      -0.004       0.011\n",
      "DISTINCT_TITLES                         -0.0320      0.018     -1.776      0.076      -0.067       0.003\n",
      "DAYS_SINCE_LAST_STREAM                   0.0334      0.007      5.047      0.000       0.020       0.046\n",
      "MINS_WATCHED                             0.0003      0.000      1.327      0.184      -0.000       0.001\n",
      "GENDER_Male                             -0.0126      0.016     -0.803      0.422      -0.044       0.018\n",
      "BILLING_PLATFORM_APPLE                   0.0094      0.012      0.783      0.433      -0.014       0.033\n",
      "BILLING_PLATFORM_DIRECT                  0.0006      0.010      0.054      0.957      -0.020       0.021\n",
      "BILLING_PLATFORM_GOOGLE                 -0.0099      0.012     -0.836      0.403      -0.033       0.013\n",
      "HAS_FREE_TRIAL_Yes                       0.0742      0.010      7.305      0.000       0.054       0.094\n",
      "SUBSCRIPTION_PERIOD_One_year            -0.2366      0.010    -24.389      0.000      -0.256      -0.218\n",
      "SUBSCRIPTION_PERIOD_Two_Year            -0.2392      0.009    -26.094      0.000      -0.257      -0.221\n",
      "BY_CAMPAIGN_Yes                          0.0142      0.008      1.877      0.061      -0.001       0.029\n",
      "Tablet_Yes                              -0.0073      0.008     -0.893      0.372      -0.023       0.009\n",
      "SUBSCRIPTION_TYPE_Combo                 -0.0761      0.085     -0.891      0.373      -0.243       0.091\n",
      "SUBSCRIPTION_TYPE_Standalone            -0.1018      0.023     -4.356      0.000      -0.148      -0.056\n",
      "HAS_ANY_KIDS_PROFILE_STREAMING_Yes      -0.0273      0.013     -2.071      0.038      -0.053      -0.001\n",
      "PRODUCT_SWITCH_Yes                      -0.0144      0.015     -0.985      0.324      -0.043       0.014\n",
      "IS_RECONNECT_PAID_TO_PAID_Yes           -0.0404      0.017     -2.383      0.017      -0.074      -0.007\n",
      "IS_RECONNECT_PAID_TO_TRIAL_Yes          -0.0443      0.014     -3.094      0.002      -0.072      -0.016\n",
      "IS_RECONNECT_TRIAL_TO_PAID_Yes          -0.0328      0.015     -2.218      0.027      -0.062      -0.004\n",
      "IS_RECONNECT_TRIAL_TO_TRIAL_Yes         -0.0265      0.011     -2.426      0.015      -0.048      -0.005\n",
      "STREAM_SPORTS_Yes                        0.0020      0.033      0.062      0.951      -0.062       0.066\n",
      "STREAM_SERIES_Yes                        0.0146      0.028      0.524      0.601      -0.040       0.069\n",
      "STREAM_MOVIES_Yes                        0.0099      0.008      1.294      0.196      -0.005       0.025\n",
      "PAYMENT_METHOD_Credit_Card_automatic     0.0197      0.012      1.706      0.088      -0.003       0.042\n",
      "PAYMENT_METHOD_Electronic_Check          0.0409      0.010      3.977      0.000       0.021       0.061\n",
      "PAYMENT_METHOD_Mailed_Check              0.0213      0.011      1.910      0.056      -0.001       0.043\n",
      "PURCHASE_DEVICE_TYPE_Desktop            -0.0209      0.009     -2.271      0.023      -0.039      -0.003\n",
      "PURCHASE_DEVICE_TYPE_Mobile             -0.0167      0.009     -1.802      0.072      -0.035       0.001\n",
      "==============================================================================\n",
      "Omnibus:                      721.451   Durbin-Watson:                   2.000\n",
      "Prob(Omnibus):                  0.000   Jarque-Bera (JB):              241.029\n",
      "Skew:                           0.185   Prob(JB):                     4.58e-53\n",
      "Kurtosis:                       2.170   Cond. No.                     1.29e+06\n",
      "==============================================================================\n",
      "\n",
      "Notes:\n",
      "[1] Standard Errors assume that the covariance matrix of the errors is correctly specified.\n",
      "[2] The condition number is large, 1.29e+06. This might indicate that there are\n",
      "strong multicollinearity or other numerical problems.\n",
      "\n",
      "Printing predicted and actual values:\n",
      " [[ 0.11113199  0.        ]\n",
      " [ 0.24232727  0.        ]\n",
      " [ 0.58246606  1.        ]\n",
      " ...\n",
      " [ 0.11188958  0.        ]\n",
      " [ 0.35142174  0.        ]\n",
      " [-0.20226581  0.        ]]\n",
      "\n",
      "Printing Mean Squared Error:\n",
      " 0.31940627441016856\n",
      "\n",
      "R2 Score:\n",
      " 0.47788932372118087\n"
     ]
    }
   ],
   "source": [
    "# Run statsmodel function\n",
    "model_sm, arr_sm = get_sm_model(y_train,X_train, X_test);"
   ]
  },
  {
   "cell_type": "code",
   "execution_count": 10,
   "id": "99e026bd",
   "metadata": {},
   "outputs": [
    {
     "name": "stdout",
     "output_type": "stream",
     "text": [
      "\n",
      "Printing model coefficients and intercept summary for sklearn model:\n",
      " [['ACCOUNTS' '2.000139805218209e-06']\n",
      " ['CHILDREN' '-0.00922594689408848']\n",
      " ['AGE_IN_MONTHS' '0.008641383277208257']\n",
      " ['Income' '8.774252176122104e-08']\n",
      " ['DEVICE_COUNT' '-0.0006441488499601742']\n",
      " ['DAYS_STREAM' '-0.0003861336564400866']\n",
      " ['NUMB_OF_PROFILES' '0.0037400755966131']\n",
      " ['DISTINCT_TITLES' '-0.03199534654037857']\n",
      " ['DAYS_SINCE_LAST_STREAM' '0.03337776435472208']\n",
      " ['MINS_WATCHED' '0.0002917874420172645']\n",
      " ['GENDER_Male' '-0.012646466290212368']\n",
      " ['BILLING_PLATFORM_APPLE' '0.009407399268678784']\n",
      " ['BILLING_PLATFORM_DIRECT' '0.0005659429001087381']\n",
      " ['BILLING_PLATFORM_GOOGLE' '-0.009882500012437172']\n",
      " ['HAS_FREE_TRIAL_Yes' '0.07422553397039502']\n",
      " ['SUBSCRIPTION_PERIOD_One_year' '-0.23657694734517629']\n",
      " ['SUBSCRIPTION_PERIOD_Two_Year' '-0.23918175308415637']\n",
      " ['BY_CAMPAIGN_Yes' '0.014159079171482222']\n",
      " ['Tablet_Yes' '-0.007345562180635216']\n",
      " ['SUBSCRIPTION_TYPE_Combo' '-0.0760557306220408']\n",
      " ['SUBSCRIPTION_TYPE_Standalone' '-0.10179829298874125']\n",
      " ['HAS_ANY_KIDS_PROFILE_STREAMING_Yes' '-0.027258670603922026']\n",
      " ['PRODUCT_SWITCH_Yes' '-0.014382733721334114']\n",
      " ['IS_RECONNECT_PAID_TO_PAID_Yes' '-0.04044772042492127']\n",
      " ['IS_RECONNECT_PAID_TO_TRIAL_Yes' '-0.04427947441994939']\n",
      " ['IS_RECONNECT_TRIAL_TO_PAID_Yes' '-0.03281742111731415']\n",
      " ['IS_RECONNECT_TRIAL_TO_TRIAL_Yes' '-0.026520004357966438']\n",
      " ['STREAM_SPORTS_Yes' '0.002003991188072585']\n",
      " ['STREAM_SERIES_Yes' '0.014614152553857748']\n",
      " ['STREAM_MOVIES_Yes' '0.009919778891389239']\n",
      " ['PAYMENT_METHOD_Credit_Card_automatic' '0.019686144012227715']\n",
      " ['PAYMENT_METHOD_Electronic_Check' '0.04093893913289674']\n",
      " ['PAYMENT_METHOD_Mailed_Check' '0.021303522805106254']\n",
      " ['PURCHASE_DEVICE_TYPE_Desktop' '-0.020884703018139765']\n",
      " ['PURCHASE_DEVICE_TYPE_Mobile' '-0.016716924253554512']] 0.015682703849497437\n",
      "\n",
      "Printing predicted and actual values from sklearn:\n",
      " [[ 0.11113199  0.        ]\n",
      " [ 0.24232727  0.        ]\n",
      " [ 0.58246606  1.        ]\n",
      " ...\n",
      " [ 0.11188958  0.        ]\n",
      " [ 0.35142174  0.        ]\n",
      " [-0.20226581  0.        ]]\n",
      "\n",
      "Printing Mean Squared Error from sklearn:\n",
      " 0.31940627441016944\n",
      "\n",
      "R2 Score  from sklearn:\n",
      " 0.477889323721178\n"
     ]
    }
   ],
   "source": [
    "# Run sklearn model on reduced data set\n",
    "model, arr, intercept = get_sk_model(y_train,X_train, X_test);"
   ]
  },
  {
   "cell_type": "markdown",
   "id": "c8c18e18",
   "metadata": {},
   "source": [
    "Modelo Final\n"
   ]
  },
  {
   "cell_type": "code",
   "execution_count": 11,
   "id": "8521dddb",
   "metadata": {},
   "outputs": [],
   "source": [
    "# Following columns have categorical data types and they need to be converted to dummy variables\n",
    "data_reduced = data[['CHURN','DISTINCT_TITLES','NUMB_OF_PROFILES','DAYS_SINCE_LAST_STREAM','MINS_WATCHED', 'BILLING_PLATFORM', 'GENDER','HAS_FREE_TRIAL','SUBSCRIPTION_PERIOD'\n",
    "                    ,'AGE_IN_MONTHS','CHILDREN', 'BY_CAMPAIGN','SUBSCRIPTION_TYPE','HAS_ANY_KIDS_PROFILE_STREAMING', 'STREAM_SERIES','STREAM_MOVIES','PAYMENT_METHOD']]\n",
    "\n",
    "dummy_variable_columns_red = ['CHURN','BILLING_PLATFORM','GENDER','HAS_FREE_TRIAL','SUBSCRIPTION_PERIOD', 'BY_CAMPAIGN','SUBSCRIPTION_TYPE','HAS_ANY_KIDS_PROFILE_STREAMING',\n",
    "                          'STREAM_SERIES','STREAM_MOVIES','PAYMENT_METHOD']\n",
    "\n",
    "\n",
    "# Following columns have continuous numerical data, which needs to be scaled before predictive model can be created.\n",
    "# Hence, these columns will be transformed to normalized form.\n",
    "\n",
    "to_transform_red = ['NUMB_OF_PROFILES','DAYS_SINCE_LAST_STREAM','MINS_WATCHED','DISTINCT_TITLES'\n",
    "                   ,'AGE_IN_MONTHS','CHILDREN'\n",
    "               ]\n",
    "\n",
    "dummy_data_file_index = 0"
   ]
  },
  {
   "cell_type": "code",
   "execution_count": 12,
   "id": "e244089a-eb7f-4e88-9879-cb59eb485a03",
   "metadata": {},
   "outputs": [],
   "source": [
    "y_red, dummy_data_red = get_dummy_data_with_output(dummy_variable_columns_red, data_reduced)"
   ]
  },
  {
   "cell_type": "code",
   "execution_count": 13,
   "id": "2ffa4c5b-1294-4272-93ae-fdc35453d194",
   "metadata": {},
   "outputs": [],
   "source": [
    "# Split the training and test set 7:3 \n",
    "X_train_red, X_test_red, y_train_red, y_test_red = train_test_split(dummy_data_red,y_red,test_size=.3, random_state=0)"
   ]
  },
  {
   "cell_type": "code",
   "execution_count": 14,
   "id": "281baf61",
   "metadata": {},
   "outputs": [
    {
     "name": "stdout",
     "output_type": "stream",
     "text": [
      "                            OLS Regression Results                            \n",
      "==============================================================================\n",
      "Dep. Variable:              CHURN_Yes   R-squared:                       0.488\n",
      "Model:                            OLS   Adj. R-squared:                  0.487\n",
      "Method:                 Least Squares   F-statistic:                     302.9\n",
      "Date:                Fri, 09 Sep 2022   Prob (F-statistic):               0.00\n",
      "Time:                        17:24:49   Log-Likelihood:                -1855.7\n",
      "No. Observations:                7000   AIC:                             3757.\n",
      "Df Residuals:                    6977   BIC:                             3915.\n",
      "Df Model:                          22                                         \n",
      "Covariance Type:            nonrobust                                         \n",
      "========================================================================================================\n",
      "                                           coef    std err          t      P>|t|      [0.025      0.975]\n",
      "--------------------------------------------------------------------------------------------------------\n",
      "const                                   -0.0120      0.029     -0.418      0.676      -0.068       0.044\n",
      "DISTINCT_TITLES                         -0.0236      0.005     -4.752      0.000      -0.033      -0.014\n",
      "NUMB_OF_PROFILES                         0.0039      0.004      1.029      0.303      -0.004       0.011\n",
      "DAYS_SINCE_LAST_STREAM                   0.0321      0.003     11.765      0.000       0.027       0.037\n",
      "MINS_WATCHED                             0.0002   6.07e-05      3.129      0.002    7.09e-05       0.000\n",
      "AGE_IN_MONTHS                            0.0055      0.003      2.087      0.037       0.000       0.011\n",
      "CHILDREN                                -0.0062      0.003     -2.407      0.016      -0.011      -0.001\n",
      "BILLING_PLATFORM_APPLE                   0.0105      0.012      0.872      0.383      -0.013       0.034\n",
      "BILLING_PLATFORM_DIRECT                  0.0016      0.010      0.149      0.882      -0.019       0.022\n",
      "BILLING_PLATFORM_GOOGLE                 -0.0087      0.012     -0.735      0.463      -0.032       0.015\n",
      "GENDER_Male                             -0.0062      0.009     -0.722      0.470      -0.023       0.011\n",
      "HAS_FREE_TRIAL_Yes                       0.0728      0.010      7.142      0.000       0.053       0.093\n",
      "SUBSCRIPTION_PERIOD_One_year            -0.2362      0.010    -24.273      0.000      -0.255      -0.217\n",
      "SUBSCRIPTION_PERIOD_Two_Year            -0.2392      0.009    -25.989      0.000      -0.257      -0.221\n",
      "BY_CAMPAIGN_Yes                          0.0139      0.008      1.838      0.066      -0.001       0.029\n",
      "SUBSCRIPTION_TYPE_Combo                 -0.0329      0.025     -1.341      0.180      -0.081       0.015\n",
      "SUBSCRIPTION_TYPE_Standalone            -0.0984      0.013     -7.429      0.000      -0.124      -0.072\n",
      "HAS_ANY_KIDS_PROFILE_STREAMING_Yes      -0.0274      0.013     -2.072      0.038      -0.053      -0.001\n",
      "STREAM_SERIES_Yes                        0.0420      0.010      4.281      0.000       0.023       0.061\n",
      "STREAM_MOVIES_Yes                        0.0100      0.008      1.301      0.193      -0.005       0.025\n",
      "PAYMENT_METHOD_Credit_Card_automatic     0.0196      0.012      1.693      0.090      -0.003       0.042\n",
      "PAYMENT_METHOD_Electronic_Check          0.0394      0.010      3.814      0.000       0.019       0.060\n",
      "PAYMENT_METHOD_Mailed_Check              0.0208      0.011      1.858      0.063      -0.001       0.043\n",
      "==============================================================================\n",
      "Omnibus:                      743.091   Durbin-Watson:                   1.995\n",
      "Prob(Omnibus):                  0.000   Jarque-Bera (JB):              241.374\n",
      "Skew:                           0.178   Prob(JB):                     3.86e-53\n",
      "Kurtosis:                       2.162   Cond. No.                     3.47e+04\n",
      "==============================================================================\n",
      "\n",
      "Notes:\n",
      "[1] Standard Errors assume that the covariance matrix of the errors is correctly specified.\n",
      "[2] The condition number is large, 3.47e+04. This might indicate that there are\n",
      "strong multicollinearity or other numerical problems.\n",
      "\n",
      "Printing predicted and actual values:\n",
      " [[ 0.20514515  0.        ]\n",
      " [ 0.19768578  0.        ]\n",
      " [ 0.55321446  1.        ]\n",
      " ...\n",
      " [ 0.11486134  0.        ]\n",
      " [ 0.39955691  0.        ]\n",
      " [-0.13764602  0.        ]]\n",
      "\n",
      "Printing Mean Squared Error:\n",
      " 0.3212956714813032\n",
      "\n",
      "R2 Score:\n",
      " 0.47169412889829143\n"
     ]
    }
   ],
   "source": [
    "model_sm_red, arr_sm_red = get_sm_model(y_train_red,X_train_red, X_test_red);"
   ]
  },
  {
   "cell_type": "code",
   "execution_count": 15,
   "id": "95577099-de66-4bb3-b841-17690a1796f4",
   "metadata": {},
   "outputs": [
    {
     "name": "stdout",
     "output_type": "stream",
     "text": [
      "\n",
      "Printing model coefficients and intercept summary for sklearn model:\n",
      " [['DISTINCT_TITLES' '-0.02363082622963319']\n",
      " ['NUMB_OF_PROFILES' '0.0039243880213148405']\n",
      " ['DAYS_SINCE_LAST_STREAM' '0.03206416668947616']\n",
      " ['MINS_WATCHED' '0.00018978859345581802']\n",
      " ['AGE_IN_MONTHS' '0.005538837322988967']\n",
      " ['CHILDREN' '-0.006247584368773703']\n",
      " ['BILLING_PLATFORM_APPLE' '0.010518049832089822']\n",
      " ['BILLING_PLATFORM_DIRECT' '0.0015558281975204774']\n",
      " ['BILLING_PLATFORM_GOOGLE' '-0.008717455853013442']\n",
      " ['GENDER_Male' '-0.006175342009045179']\n",
      " ['HAS_FREE_TRIAL_Yes' '0.07281730349326906']\n",
      " ['SUBSCRIPTION_PERIOD_One_year' '-0.2362473233815991']\n",
      " ['SUBSCRIPTION_PERIOD_Two_Year' '-0.2391951352052253']\n",
      " ['BY_CAMPAIGN_Yes' '0.01391439221785154']\n",
      " ['SUBSCRIPTION_TYPE_Combo' '-0.03290220621216633']\n",
      " ['SUBSCRIPTION_TYPE_Standalone' '-0.09842670420525843']\n",
      " ['HAS_ANY_KIDS_PROFILE_STREAMING_Yes' '-0.027365502845767758']\n",
      " ['STREAM_SERIES_Yes' '0.041990327770665116']\n",
      " ['STREAM_MOVIES_Yes' '0.010007361587866897']\n",
      " ['PAYMENT_METHOD_Credit_Card_automatic' '0.019615408419476194']\n",
      " ['PAYMENT_METHOD_Electronic_Check' '0.03939725453726533']\n",
      " ['PAYMENT_METHOD_Mailed_Check' '0.020803544087641783']] -0.012036226330024657\n",
      "\n",
      "Printing predicted and actual values from sklearn:\n",
      " [[ 0.20514515  0.        ]\n",
      " [ 0.19768578  0.        ]\n",
      " [ 0.55321446  1.        ]\n",
      " ...\n",
      " [ 0.11486134  0.        ]\n",
      " [ 0.39955691  0.        ]\n",
      " [-0.13764602  0.        ]]\n",
      "\n",
      "Printing Mean Squared Error from sklearn:\n",
      " 0.32129567148129634\n",
      "\n",
      "R2 Score  from sklearn:\n",
      " 0.4716941288983141\n"
     ]
    }
   ],
   "source": [
    "# Run sklearn model on reduced data set\n",
    "model, arr, intercept = get_sk_model(y_train_red,X_train_red, X_test_red);"
   ]
  },
  {
   "cell_type": "code",
   "execution_count": 16,
   "id": "9d508239-29eb-4a2b-a9d0-b535399fd7ac",
   "metadata": {},
   "outputs": [
    {
     "name": "stdout",
     "output_type": "stream",
     "text": [
      "y =  -0.024 x DISTINCT_TITLES + 0.004 x NUMB_OF_PROFILES + 0.032 x DAYS_SINCE_LAST_STREAM + 0.0 x MINS_WATCHED + 0.006 x AGE_IN_MONTHS -0.006 x CHILDREN + 0.011 x BILLING_PLATFORM_APPLE + 0.002 x BILLING_PLATFORM_DIRECT -0.009 x BILLING_PLATFORM_GOOGLE -0.006 x GENDER_Male + 0.073 x HAS_FREE_TRIAL_Yes -0.236 x SUBSCRIPTION_PERIOD_One_year -0.239 x SUBSCRIPTION_PERIOD_Two_Year + 0.014 x BY_CAMPAIGN_Yes -0.033 x SUBSCRIPTION_TYPE_Combo -0.098 x SUBSCRIPTION_TYPE_Standalone -0.027 x HAS_ANY_KIDS_PROFILE_STREAMING_Yes + 0.042 x STREAM_SERIES_Yes + 0.01 x STREAM_MOVIES_Yes + 0.02 x PAYMENT_METHOD_Credit_Card_automatic + 0.039 x PAYMENT_METHOD_Electronic_Check + 0.021 x PAYMENT_METHOD_Mailed_Check -0.012036226330024657\n"
     ]
    }
   ],
   "source": [
    "equation = 'y = '\n",
    "for ar in arr:\n",
    "    eq = str(round(float(ar[1]),3))+' x '+str(ar[0])\n",
    "    if eq.startswith('-'):\n",
    "        equation = equation + ' ' + eq\n",
    "    else:\n",
    "        equation = equation + ' + ' +eq\n",
    "    \n",
    "print (equation + ' ' + str(intercept))"
   ]
  }
 ],
 "metadata": {
  "kernelspec": {
   "display_name": "Python 3.9.7 64-bit (system)",
   "language": "python",
   "name": "python3"
  },
  "language_info": {
   "codemirror_mode": {
    "name": "ipython",
    "version": 3
   },
   "file_extension": ".py",
   "mimetype": "text/x-python",
   "name": "python",
   "nbconvert_exporter": "python",
   "pygments_lexer": "ipython3",
   "version": "3.9.7"
  },
  "vscode": {
   "interpreter": {
    "hash": "5e23deaf657df8da0481726d5faa78805c0039777840256ed40762b1c99e2ca9"
   }
  }
 },
 "nbformat": 4,
 "nbformat_minor": 5
}
