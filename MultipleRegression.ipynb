{
 "cells": [
  {
   "cell_type": "code",
   "execution_count": 1,
   "id": "6f86f775-7b8b-45da-92cf-c0fd7b89b914",
   "metadata": {},
   "outputs": [],
   "source": [
    "# Importing pandas and seaborn libraries for data manipulation and charting\n",
    "import pandas as pd\n",
    "import seaborn as sns\n",
    "import matplotlib.pyplot as plt\n",
    "import numpy as np\n",
    "from sklearn.model_selection import train_test_split\n",
    "from sklearn.linear_model import LinearRegression\n",
    "from sklearn.metrics import mean_squared_error, r2_score\n",
    "import statsmodels.api as sm"
   ]
  },
  {
   "cell_type": "code",
   "execution_count": 2,
   "id": "59ae1588-b4ac-4945-8b62-558fd0772e26",
   "metadata": {},
   "outputs": [],
   "source": [
    "# Import data from CSV file\n",
    "data = pd.read_excel('churn.xlsx')"
   ]
  },
  {
   "cell_type": "code",
   "execution_count": 3,
   "id": "f24891df-03e2-410b-bc03-6f354b8a3448",
   "metadata": {},
   "outputs": [],
   "source": [
    "# Function to clean column names\n",
    "\n",
    "def column_name_remove_space(df):\n",
    "    for x in df.columns:\n",
    "        if \" \" in x:\n",
    "            df = df.rename(columns={x:x.replace(\" \",\"_\").replace(\"(\",\"\")\n",
    "                                    .replace(\")\",\"\").replace(\",\",\"_\").replace(\"/\",\"_\")})\n",
    "    return df"
   ]
  },
  {
   "cell_type": "markdown",
   "id": "af3574a0",
   "metadata": {},
   "source": [
    "Modelo Inicial"
   ]
  },
  {
   "cell_type": "code",
   "execution_count": 4,
   "id": "2bc39b65",
   "metadata": {},
   "outputs": [],
   "source": [
    "# Following columns have categorical data types and they need to be converted to dummy variables\n",
    "dummy_variable_columns = ['GENDER','BILLING_PLATFORM','HAS_FREE_TRIAL','SUBSCRIPTION_PERIOD','BY_CAMPAIGN',\n",
    "                          'SUBSCRIPTION_TYPE','HAS_ANY_KIDS_PROFILE_STREAMING','PRODUCT_SWITCH','IS_RECONNECT_PAID_TO_PAID','IS_RECONNECT_PAID_TO_TRIAL',\n",
    "                          'IS_RECONNECT_TRIAL_TO_PAID','IS_RECONNECT_TRIAL_TO_TRIAL','STREAM_SPORTS','STREAM_SERIES',\n",
    "                          'STREAM_MOVIES','PAYMENT_METHOD','PURCHASE_DEVICE_TYPE', 'CHURN']\n",
    "\n",
    "\n",
    "# Following columns have continuous numerical data, which needs to be scaled before predictive model can be created.\n",
    "# Hence, these columns will be transformed to normalized form.\n",
    "\n",
    "to_transform = ['DISTINCT_TITLES','DAYS_SINCE_LAST_STREAM  ','MINS_WATCHED','DEVICE_COUNT',\n",
    "                'DAYS_STREAM','NUMB_OF_PROFILES','CHILDREN','AGE_IN_MONTHS']\n",
    "\n",
    "dummy_data_file_index = 0"
   ]
  },
  {
   "cell_type": "code",
   "execution_count": 5,
   "id": "3958df9e",
   "metadata": {},
   "outputs": [],
   "source": [
    "from sklearn.preprocessing import StandardScaler\n",
    "\n",
    "def get_dummy_data_with_output(dummy_variable_columns, data):\n",
    "    global dummy_data_file_index\n",
    "    dummy_data = pd.get_dummies(data, prefix=dummy_variable_columns, columns=dummy_variable_columns, drop_first= True)\n",
    "    dummy_data = column_name_remove_space(dummy_data)\n",
    "    dummy_data.to_csv('dummy_var_data'+str(dummy_data_file_index)+'.csv', index=False)\n",
    "    y = dummy_data['CHURN_Yes']\n",
    "    dummy_data.drop(columns=['CHURN_Yes'], inplace=True)\n",
    "    dummy_data_file_index += 1\n",
    "    return y, dummy_data\n",
    "\n",
    "y, dummy_data = get_dummy_data_with_output(dummy_variable_columns, data)"
   ]
  },
  {
   "cell_type": "code",
   "execution_count": 6,
   "id": "7cae4424",
   "metadata": {},
   "outputs": [],
   "source": [
    "# Split the training and test set 7:3 \n",
    "X_train, X_test, y_train, y_test = train_test_split(dummy_data,y,test_size=.3, random_state=0)"
   ]
  },
  {
   "cell_type": "code",
   "execution_count": 7,
   "id": "27324ec1",
   "metadata": {},
   "outputs": [],
   "source": [
    "# Creating a function to create prediction model based on statsmodel library and\n",
    "# print details like model Summary, Confusion Matrix and Accuracy Score based on predicted values using test set\n",
    "figsize=(8,5)\n",
    "\n",
    "def get_sm_model(y_train,X_train, X_test):\n",
    "    X_train = sm.add_constant(X_train)\n",
    "    X_test = sm.add_constant(X_test)\n",
    "    model=sm.OLS(y_train,X_train)\n",
    "    model=model.fit()\n",
    "    print(model.summary())\n",
    "    y_hat = model.predict(X_test)\n",
    "    arr = np.c_[y_hat, y_test]\n",
    "    print('\\nPrinting predicted and actual values:\\n',arr)\n",
    "    print('\\nPrinting Mean Squared Error:\\n',(np.sqrt(mean_squared_error(y_test, y_hat))))\n",
    "    print('\\nR2 Score:\\n',r2_score(y_test, y_hat))\n",
    "\n",
    "    return model, arr\n"
   ]
  },
  {
   "cell_type": "code",
   "execution_count": 8,
   "id": "a0234340",
   "metadata": {},
   "outputs": [],
   "source": [
    "# Creating a function to create prediction model based on sklearn library and\n",
    "# print details like model Summary, Confusion Matrix and Accuracy Score based on predicted values using test set\n",
    "\n",
    "def get_sk_model(y_train,X_train, X_test):\n",
    "    model = LinearRegression()\n",
    "    model.fit(X_train, y_train)\n",
    "    arr = np.c_[X_train.columns.tolist(),model.coef_]\n",
    "    intercept = model.intercept_\n",
    "    print('\\nPrinting model coefficients and intercept summary for sklearn model:\\n',arr, model.intercept_)\n",
    "    y_pred = model.predict(X_test)\n",
    "    print('\\nPrinting predicted and actual values from sklearn:\\n',np.c_[y_pred, y_test])\n",
    "    print('\\nPrinting Mean Squared Error from sklearn:\\n',(np.sqrt(mean_squared_error(y_test, y_pred))))\n",
    "    print('\\nR2 Score  from sklearn:\\n',r2_score(y_test, y_pred))\n",
    "    return model, arr, intercept"
   ]
  },
  {
   "cell_type": "code",
   "execution_count": 9,
   "id": "1ebbda9a",
   "metadata": {},
   "outputs": [
    {
     "name": "stdout",
     "output_type": "stream",
     "text": [
      "                            OLS Regression Results                            \n",
      "==============================================================================\n",
      "Dep. Variable:              CHURN_Yes   R-squared:                       0.494\n",
      "Model:                            OLS   Adj. R-squared:                  0.492\n",
      "Method:                 Least Squares   F-statistic:                     212.7\n",
      "Date:                Mon, 12 Sep 2022   Prob (F-statistic):               0.00\n",
      "Time:                        14:16:06   Log-Likelihood:                -1816.7\n",
      "No. Observations:                7000   AIC:                             3699.\n",
      "Df Residuals:                    6967   BIC:                             3926.\n",
      "Df Model:                          32                                         \n",
      "Covariance Type:            nonrobust                                         \n",
      "========================================================================================================\n",
      "                                           coef    std err          t      P>|t|      [0.025      0.975]\n",
      "--------------------------------------------------------------------------------------------------------\n",
      "const                                    0.0187      0.042      0.445      0.657      -0.064       0.101\n",
      "CHILDREN                                -0.0092      0.007     -1.315      0.189      -0.023       0.005\n",
      "AGE_IN_MONTHS                            0.0087      0.007      1.205      0.228      -0.005       0.023\n",
      "DEVICE_COUNT                            -0.0007      0.001     -0.527      0.598      -0.003       0.002\n",
      "DAYS_STREAM                             -0.0004      0.001     -0.312      0.755      -0.003       0.002\n",
      "NUMB_OF_PROFILES                         0.0038      0.004      0.998      0.318      -0.004       0.011\n",
      "DISTINCT_TITLES                         -0.0320      0.018     -1.779      0.075      -0.067       0.003\n",
      "DAYS_SINCE_LAST_STREAM                   0.0334      0.007      5.054      0.000       0.020       0.046\n",
      "MINS_WATCHED                             0.0003      0.000      1.330      0.184      -0.000       0.001\n",
      "GENDER_Male                             -0.0127      0.016     -0.803      0.422      -0.044       0.018\n",
      "BILLING_PLATFORM_APPLE                   0.0093      0.012      0.778      0.437      -0.014       0.033\n",
      "BILLING_PLATFORM_DIRECT                  0.0007      0.010      0.064      0.949      -0.020       0.021\n",
      "BILLING_PLATFORM_GOOGLE                 -0.0099      0.012     -0.840      0.401      -0.033       0.013\n",
      "HAS_FREE_TRIAL_Yes                       0.0741      0.010      7.291      0.000       0.054       0.094\n",
      "SUBSCRIPTION_PERIOD_One_year            -0.2367      0.010    -24.415      0.000      -0.256      -0.218\n",
      "SUBSCRIPTION_PERIOD_Two_Year            -0.2391      0.009    -26.091      0.000      -0.257      -0.221\n",
      "BY_CAMPAIGN_Yes                          0.0140      0.008      1.859      0.063      -0.001       0.029\n",
      "SUBSCRIPTION_TYPE_Combo                 -0.0761      0.085     -0.892      0.372      -0.243       0.091\n",
      "SUBSCRIPTION_TYPE_Standalone            -0.1019      0.023     -4.359      0.000      -0.148      -0.056\n",
      "HAS_ANY_KIDS_PROFILE_STREAMING_Yes      -0.0276      0.013     -2.095      0.036      -0.053      -0.002\n",
      "PRODUCT_SWITCH_Yes                      -0.0144      0.015     -0.990      0.322      -0.043       0.014\n",
      "IS_RECONNECT_PAID_TO_PAID_Yes           -0.0408      0.017     -2.405      0.016      -0.074      -0.008\n",
      "IS_RECONNECT_PAID_TO_TRIAL_Yes          -0.0444      0.014     -3.105      0.002      -0.072      -0.016\n",
      "IS_RECONNECT_TRIAL_TO_PAID_Yes          -0.0328      0.015     -2.219      0.026      -0.062      -0.004\n",
      "IS_RECONNECT_TRIAL_TO_TRIAL_Yes         -0.0265      0.011     -2.424      0.015      -0.048      -0.005\n",
      "STREAM_SPORTS_Yes                        0.0016      0.033      0.049      0.961      -0.062       0.065\n",
      "STREAM_SERIES_Yes                        0.0141      0.028      0.505      0.613      -0.041       0.069\n",
      "STREAM_MOVIES_Yes                        0.0098      0.008      1.284      0.199      -0.005       0.025\n",
      "PAYMENT_METHOD_Credit_Card_automatic     0.0198      0.012      1.720      0.085      -0.003       0.042\n",
      "PAYMENT_METHOD_Electronic_Check          0.0409      0.010      3.973      0.000       0.021       0.061\n",
      "PAYMENT_METHOD_Mailed_Check              0.0215      0.011      1.926      0.054      -0.000       0.043\n",
      "PURCHASE_DEVICE_TYPE_Desktop            -0.0210      0.009     -2.281      0.023      -0.039      -0.003\n",
      "PURCHASE_DEVICE_TYPE_Mobile             -0.0166      0.009     -1.788      0.074      -0.035       0.002\n",
      "==============================================================================\n",
      "Omnibus:                      725.461   Durbin-Watson:                   2.000\n",
      "Prob(Omnibus):                  0.000   Jarque-Bera (JB):              241.565\n",
      "Skew:                           0.185   Prob(JB):                     3.51e-53\n",
      "Kurtosis:                       2.169   Cond. No.                     1.07e+05\n",
      "==============================================================================\n",
      "\n",
      "Notes:\n",
      "[1] Standard Errors assume that the covariance matrix of the errors is correctly specified.\n",
      "[2] The condition number is large, 1.07e+05. This might indicate that there are\n",
      "strong multicollinearity or other numerical problems.\n",
      "\n",
      "Printing predicted and actual values:\n",
      " [[ 0.11720434  0.        ]\n",
      " [ 0.24294342  0.        ]\n",
      " [ 0.592712    1.        ]\n",
      " ...\n",
      " [ 0.12020572  0.        ]\n",
      " [ 0.33849425  0.        ]\n",
      " [-0.20354344  0.        ]]\n",
      "\n",
      "Printing Mean Squared Error:\n",
      " 0.31942752416190234\n",
      "\n",
      "R2 Score:\n",
      " 0.477819850500413\n"
     ]
    }
   ],
   "source": [
    "# Run statsmodel function\n",
    "model_sm, arr_sm = get_sm_model(y_train,X_train, X_test);"
   ]
  },
  {
   "cell_type": "code",
   "execution_count": 10,
   "id": "99e026bd",
   "metadata": {},
   "outputs": [
    {
     "name": "stdout",
     "output_type": "stream",
     "text": [
      "\n",
      "Printing model coefficients and intercept summary for sklearn model:\n",
      " [['CHILDREN' '-0.009210058977570388']\n",
      " ['AGE_IN_MONTHS' '0.008695015455023419']\n",
      " ['DEVICE_COUNT' '-0.0006620285818183069']\n",
      " ['DAYS_STREAM' '-0.0003886320445743644']\n",
      " ['NUMB_OF_PROFILES' '0.0037872567028301458']\n",
      " ['DISTINCT_TITLES' '-0.032033901565070536']\n",
      " ['DAYS_SINCE_LAST_STREAM' '0.0334237594596389']\n",
      " ['MINS_WATCHED' '0.0002922560423795785']\n",
      " ['GENDER_Male' '-0.012651125426665156']\n",
      " ['BILLING_PLATFORM_APPLE' '0.009337596580646314']\n",
      " ['BILLING_PLATFORM_DIRECT' '0.0006679229170066705']\n",
      " ['BILLING_PLATFORM_GOOGLE' '-0.009924763376422658']\n",
      " ['HAS_FREE_TRIAL_Yes' '0.07406647544350485']\n",
      " ['SUBSCRIPTION_PERIOD_One_year' '-0.236742022913836']\n",
      " ['SUBSCRIPTION_PERIOD_Two_Year' '-0.2391190631075816']\n",
      " ['BY_CAMPAIGN_Yes' '0.014015814792499201']\n",
      " ['SUBSCRIPTION_TYPE_Combo' '-0.07608918943231423']\n",
      " ['SUBSCRIPTION_TYPE_Standalone' '-0.10185046511911723']\n",
      " ['HAS_ANY_KIDS_PROFILE_STREAMING_Yes' '-0.02756664788689489']\n",
      " ['PRODUCT_SWITCH_Yes' '-0.014449896309483684']\n",
      " ['IS_RECONNECT_PAID_TO_PAID_Yes' '-0.040800525087728634']\n",
      " ['IS_RECONNECT_PAID_TO_TRIAL_Yes' '-0.04440017776214768']\n",
      " ['IS_RECONNECT_TRIAL_TO_PAID_Yes' '-0.03282750111528753']\n",
      " ['IS_RECONNECT_TRIAL_TO_TRIAL_Yes' '-0.02649666780120388']\n",
      " ['STREAM_SPORTS_Yes' '0.0015791064597936934']\n",
      " ['STREAM_SERIES_Yes' '0.014092456153924198']\n",
      " ['STREAM_MOVIES_Yes' '0.009835062438592392']\n",
      " ['PAYMENT_METHOD_Credit_Card_automatic' '0.019839763818060917']\n",
      " ['PAYMENT_METHOD_Electronic_Check' '0.04087679705459047']\n",
      " ['PAYMENT_METHOD_Mailed_Check' '0.02146988658340931']\n",
      " ['PURCHASE_DEVICE_TYPE_Desktop' '-0.020972483177020523']\n",
      " ['PURCHASE_DEVICE_TYPE_Mobile' '-0.016589567998995632']] 0.0187429498258051\n",
      "\n",
      "Printing predicted and actual values from sklearn:\n",
      " [[ 0.11720434  0.        ]\n",
      " [ 0.24294342  0.        ]\n",
      " [ 0.592712    1.        ]\n",
      " ...\n",
      " [ 0.12020572  0.        ]\n",
      " [ 0.33849425  0.        ]\n",
      " [-0.20354344  0.        ]]\n",
      "\n",
      "Printing Mean Squared Error from sklearn:\n",
      " 0.3194275241619023\n",
      "\n",
      "R2 Score  from sklearn:\n",
      " 0.4778198505004132\n"
     ]
    }
   ],
   "source": [
    "# Run sklearn model on reduced data set\n",
    "model, arr, intercept = get_sk_model(y_train,X_train, X_test);"
   ]
  },
  {
   "cell_type": "markdown",
   "id": "c8c18e18",
   "metadata": {},
   "source": [
    "Modelo Final\n"
   ]
  },
  {
   "cell_type": "code",
   "execution_count": 18,
   "id": "8521dddb",
   "metadata": {},
   "outputs": [],
   "source": [
    "# Following columns have categorical data types and they need to be converted to dummy variables\n",
    "data_reduced = data[['NUMB_OF_PROFILES','DAYS_SINCE_LAST_STREAM','MINS_WATCHED','DISTINCT_TITLES',\n",
    "                     'AGE_IN_MONTHS','CHILDREN',\n",
    "                     'CHURN','HAS_FREE_TRIAL','SUBSCRIPTION_PERIOD', 'BY_CAMPAIGN','SUBSCRIPTION_TYPE','HAS_ANY_KIDS_PROFILE_STREAMING',\n",
    "                     'STREAM_MOVIES','PAYMENT_METHOD', 'IS_RECONNECT_PAID_TO_PAID' , 'IS_RECONNECT_PAID_TO_TRIAL', 'IS_RECONNECT_TRIAL_TO_PAID', \n",
    "                     'IS_RECONNECT_TRIAL_TO_TRIAL', 'PURCHASE_DEVICE_TYPE'\n",
    "                   ]]\n",
    "\n",
    "dummy_variable_columns_red = ['CHURN','HAS_FREE_TRIAL','SUBSCRIPTION_PERIOD', 'BY_CAMPAIGN','SUBSCRIPTION_TYPE','HAS_ANY_KIDS_PROFILE_STREAMING',\n",
    "                              'STREAM_MOVIES','PAYMENT_METHOD', 'IS_RECONNECT_PAID_TO_PAID' , 'IS_RECONNECT_PAID_TO_TRIAL', 'IS_RECONNECT_TRIAL_TO_PAID', \n",
    "                              'IS_RECONNECT_TRIAL_TO_TRIAL', 'PURCHASE_DEVICE_TYPE'\n",
    "                              ]\n",
    "\n",
    "\n",
    "# Following columns have continuous numerical data, which needs to be scaled before predictive model can be created.\n",
    "# Hence, these columns will be transformed to normalized form.\n",
    "\n",
    "to_transform_red = ['NUMB_OF_PROFILES','DAYS_SINCE_LAST_STREAM','MINS_WATCHED','DISTINCT_TITLES',\n",
    "                    'AGE_IN_MONTHS','CHILDREN'\n",
    "               ]\n",
    "\n",
    "dummy_data_file_index = 0"
   ]
  },
  {
   "cell_type": "code",
   "execution_count": 19,
   "id": "e244089a-eb7f-4e88-9879-cb59eb485a03",
   "metadata": {},
   "outputs": [],
   "source": [
    "y_red, dummy_data_red = get_dummy_data_with_output(dummy_variable_columns_red, data_reduced)"
   ]
  },
  {
   "cell_type": "code",
   "execution_count": 20,
   "id": "2ffa4c5b-1294-4272-93ae-fdc35453d194",
   "metadata": {},
   "outputs": [],
   "source": [
    "# Split the training and test set 7:3 \n",
    "X_train_red, X_test_red, y_train_red, y_test_red = train_test_split(dummy_data_red,y_red,test_size=.3, random_state=0)"
   ]
  },
  {
   "cell_type": "code",
   "execution_count": 21,
   "id": "281baf61",
   "metadata": {},
   "outputs": [
    {
     "name": "stdout",
     "output_type": "stream",
     "text": [
      "                            OLS Regression Results                            \n",
      "==============================================================================\n",
      "Dep. Variable:              CHURN_Yes   R-squared:                       0.493\n",
      "Model:                            OLS   Adj. R-squared:                  0.492\n",
      "Method:                 Least Squares   F-statistic:                     295.2\n",
      "Date:                Mon, 12 Sep 2022   Prob (F-statistic):               0.00\n",
      "Time:                        14:31:07   Log-Likelihood:                -1823.1\n",
      "No. Observations:                7000   AIC:                             3694.\n",
      "Df Residuals:                    6976   BIC:                             3859.\n",
      "Df Model:                          23                                         \n",
      "Covariance Type:            nonrobust                                         \n",
      "========================================================================================================\n",
      "                                           coef    std err          t      P>|t|      [0.025      0.975]\n",
      "--------------------------------------------------------------------------------------------------------\n",
      "const                                   -0.0046      0.027     -0.171      0.864      -0.058       0.048\n",
      "NUMB_OF_PROFILES                         0.0039      0.004      1.018      0.309      -0.004       0.011\n",
      "DAYS_SINCE_LAST_STREAM                   0.0336      0.003     11.898      0.000       0.028       0.039\n",
      "MINS_WATCHED                             0.0003   6.65e-05      4.524      0.000       0.000       0.000\n",
      "DISTINCT_TITLES                         -0.0327      0.005     -6.006      0.000      -0.043      -0.022\n",
      "AGE_IN_MONTHS                            0.0090      0.003      3.257      0.001       0.004       0.014\n",
      "CHILDREN                                -0.0094      0.003     -3.458      0.001      -0.015      -0.004\n",
      "HAS_FREE_TRIAL_Yes                       0.0744      0.010      7.330      0.000       0.055       0.094\n",
      "SUBSCRIPTION_PERIOD_One_year            -0.2369      0.010    -24.462      0.000      -0.256      -0.218\n",
      "SUBSCRIPTION_PERIOD_Two_Year            -0.2398      0.009    -26.175      0.000      -0.258      -0.222\n",
      "BY_CAMPAIGN_Yes                          0.0141      0.008      1.875      0.061      -0.001       0.029\n",
      "SUBSCRIPTION_TYPE_Combo                 -0.0806      0.026     -3.047      0.002      -0.132      -0.029\n",
      "SUBSCRIPTION_TYPE_Standalone            -0.1028      0.014     -7.609      0.000      -0.129      -0.076\n",
      "HAS_ANY_KIDS_PROFILE_STREAMING_Yes      -0.0276      0.013     -2.096      0.036      -0.053      -0.002\n",
      "STREAM_MOVIES_Yes                        0.0102      0.008      1.334      0.182      -0.005       0.025\n",
      "PAYMENT_METHOD_Credit_Card_automatic     0.0199      0.012      1.728      0.084      -0.003       0.043\n",
      "PAYMENT_METHOD_Electronic_Check          0.0411      0.010      3.999      0.000       0.021       0.061\n",
      "PAYMENT_METHOD_Mailed_Check              0.0218      0.011      1.958      0.050   -2.57e-05       0.044\n",
      "IS_RECONNECT_PAID_TO_PAID_Yes           -0.0417      0.009     -4.645      0.000      -0.059      -0.024\n",
      "IS_RECONNECT_PAID_TO_TRIAL_Yes          -0.0454      0.008     -5.779      0.000      -0.061      -0.030\n",
      "IS_RECONNECT_TRIAL_TO_PAID_Yes          -0.0338      0.008     -4.199      0.000      -0.050      -0.018\n",
      "IS_RECONNECT_TRIAL_TO_TRIAL_Yes         -0.0268      0.008     -3.176      0.001      -0.043      -0.010\n",
      "PURCHASE_DEVICE_TYPE_Desktop            -0.0205      0.009     -2.231      0.026      -0.039      -0.002\n",
      "PURCHASE_DEVICE_TYPE_Mobile             -0.0164      0.009     -1.765      0.078      -0.035       0.002\n",
      "==============================================================================\n",
      "Omnibus:                      738.164   Durbin-Watson:                   2.000\n",
      "Prob(Omnibus):                  0.000   Jarque-Bera (JB):              243.969\n",
      "Skew:                           0.187   Prob(JB):                     1.05e-53\n",
      "Kurtosis:                       2.165   Cond. No.                     3.45e+04\n",
      "==============================================================================\n",
      "\n",
      "Notes:\n",
      "[1] Standard Errors assume that the covariance matrix of the errors is correctly specified.\n",
      "[2] The condition number is large, 3.45e+04. This might indicate that there are\n",
      "strong multicollinearity or other numerical problems.\n",
      "\n",
      "Printing predicted and actual values:\n",
      " [[ 0.09685499  0.        ]\n",
      " [ 0.24744937  0.        ]\n",
      " [ 0.59324897  1.        ]\n",
      " ...\n",
      " [ 0.12904943  0.        ]\n",
      " [ 0.32694317  0.        ]\n",
      " [-0.19475484  0.        ]]\n",
      "\n",
      "Printing Mean Squared Error:\n",
      " 0.31946072012759386\n",
      "\n",
      "R2 Score:\n",
      " 0.4777113114814875\n"
     ]
    }
   ],
   "source": [
    "model_sm_red, arr_sm_red = get_sm_model(y_train_red,X_train_red, X_test_red);"
   ]
  },
  {
   "cell_type": "code",
   "execution_count": 15,
   "id": "95577099-de66-4bb3-b841-17690a1796f4",
   "metadata": {},
   "outputs": [
    {
     "name": "stdout",
     "output_type": "stream",
     "text": [
      "\n",
      "Printing model coefficients and intercept summary for sklearn model:\n",
      " [['DISTINCT_TITLES' '-0.02363082622963319']\n",
      " ['NUMB_OF_PROFILES' '0.0039243880213148405']\n",
      " ['DAYS_SINCE_LAST_STREAM' '0.03206416668947616']\n",
      " ['MINS_WATCHED' '0.00018978859345581802']\n",
      " ['AGE_IN_MONTHS' '0.005538837322988967']\n",
      " ['CHILDREN' '-0.006247584368773703']\n",
      " ['BILLING_PLATFORM_APPLE' '0.010518049832089822']\n",
      " ['BILLING_PLATFORM_DIRECT' '0.0015558281975204774']\n",
      " ['BILLING_PLATFORM_GOOGLE' '-0.008717455853013442']\n",
      " ['GENDER_Male' '-0.006175342009045179']\n",
      " ['HAS_FREE_TRIAL_Yes' '0.07281730349326906']\n",
      " ['SUBSCRIPTION_PERIOD_One_year' '-0.2362473233815991']\n",
      " ['SUBSCRIPTION_PERIOD_Two_Year' '-0.2391951352052253']\n",
      " ['BY_CAMPAIGN_Yes' '0.01391439221785154']\n",
      " ['SUBSCRIPTION_TYPE_Combo' '-0.03290220621216633']\n",
      " ['SUBSCRIPTION_TYPE_Standalone' '-0.09842670420525843']\n",
      " ['HAS_ANY_KIDS_PROFILE_STREAMING_Yes' '-0.027365502845767758']\n",
      " ['STREAM_SERIES_Yes' '0.041990327770665116']\n",
      " ['STREAM_MOVIES_Yes' '0.010007361587866897']\n",
      " ['PAYMENT_METHOD_Credit_Card_automatic' '0.019615408419476194']\n",
      " ['PAYMENT_METHOD_Electronic_Check' '0.03939725453726533']\n",
      " ['PAYMENT_METHOD_Mailed_Check' '0.020803544087641783']] -0.012036226330024657\n",
      "\n",
      "Printing predicted and actual values from sklearn:\n",
      " [[ 0.20514515  0.        ]\n",
      " [ 0.19768578  0.        ]\n",
      " [ 0.55321446  1.        ]\n",
      " ...\n",
      " [ 0.11486134  0.        ]\n",
      " [ 0.39955691  0.        ]\n",
      " [-0.13764602  0.        ]]\n",
      "\n",
      "Printing Mean Squared Error from sklearn:\n",
      " 0.32129567148129634\n",
      "\n",
      "R2 Score  from sklearn:\n",
      " 0.4716941288983141\n"
     ]
    }
   ],
   "source": [
    "# Run sklearn model on reduced data set\n",
    "model, arr, intercept = get_sk_model(y_train_red,X_train_red, X_test_red);"
   ]
  },
  {
   "cell_type": "code",
   "execution_count": 16,
   "id": "9d508239-29eb-4a2b-a9d0-b535399fd7ac",
   "metadata": {},
   "outputs": [
    {
     "name": "stdout",
     "output_type": "stream",
     "text": [
      "y =  -0.024 x DISTINCT_TITLES + 0.004 x NUMB_OF_PROFILES + 0.032 x DAYS_SINCE_LAST_STREAM + 0.0 x MINS_WATCHED + 0.006 x AGE_IN_MONTHS -0.006 x CHILDREN + 0.011 x BILLING_PLATFORM_APPLE + 0.002 x BILLING_PLATFORM_DIRECT -0.009 x BILLING_PLATFORM_GOOGLE -0.006 x GENDER_Male + 0.073 x HAS_FREE_TRIAL_Yes -0.236 x SUBSCRIPTION_PERIOD_One_year -0.239 x SUBSCRIPTION_PERIOD_Two_Year + 0.014 x BY_CAMPAIGN_Yes -0.033 x SUBSCRIPTION_TYPE_Combo -0.098 x SUBSCRIPTION_TYPE_Standalone -0.027 x HAS_ANY_KIDS_PROFILE_STREAMING_Yes + 0.042 x STREAM_SERIES_Yes + 0.01 x STREAM_MOVIES_Yes + 0.02 x PAYMENT_METHOD_Credit_Card_automatic + 0.039 x PAYMENT_METHOD_Electronic_Check + 0.021 x PAYMENT_METHOD_Mailed_Check -0.012036226330024657\n"
     ]
    }
   ],
   "source": [
    "equation = 'y = '\n",
    "for ar in arr:\n",
    "    eq = str(round(float(ar[1]),3))+' x '+str(ar[0])\n",
    "    if eq.startswith('-'):\n",
    "        equation = equation + ' ' + eq\n",
    "    else:\n",
    "        equation = equation + ' + ' +eq\n",
    "    \n",
    "print (equation + ' ' + str(intercept))"
   ]
  }
 ],
 "metadata": {
  "kernelspec": {
   "display_name": "Python 3.9.7 64-bit (system)",
   "language": "python",
   "name": "python3"
  },
  "language_info": {
   "codemirror_mode": {
    "name": "ipython",
    "version": 3
   },
   "file_extension": ".py",
   "mimetype": "text/x-python",
   "name": "python",
   "nbconvert_exporter": "python",
   "pygments_lexer": "ipython3",
   "version": "3.9.7"
  },
  "vscode": {
   "interpreter": {
    "hash": "5e23deaf657df8da0481726d5faa78805c0039777840256ed40762b1c99e2ca9"
   }
  }
 },
 "nbformat": 4,
 "nbformat_minor": 5
}
