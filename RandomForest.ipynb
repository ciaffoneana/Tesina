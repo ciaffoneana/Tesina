{
 "cells": [
  {
   "cell_type": "code",
   "execution_count": null,
   "id": "71839d1c-1247-44cb-bff2-2b49991a6033",
   "metadata": {},
   "outputs": [],
   "source": [
    "# Importing pandas and seaborn libraries for data manipulation and charting\n",
    "import pandas as pd\n",
    "import seaborn as sns\n",
    "import matplotlib.pyplot as plt\n",
    "import statsmodels.api as sm\n",
    "import numpy as np\n",
    "\n",
    "from sklearn.metrics import mean_squared_error\n",
    "from sklearn.model_selection import train_test_split\n",
    "from sklearn.ensemble import RandomForestRegressor\n",
    "from sklearn.metrics import mean_squared_error, r2_score\n",
    "\n",
    "from sklearn.metrics import r2_score\n",
    "from scipy.stats import spearmanr, pearsonr\n"
   ]
  },
  {
   "cell_type": "code",
   "execution_count": null,
   "id": "092feadd-3509-43ae-9671-4d05a687951b",
   "metadata": {},
   "outputs": [],
   "source": [
    "# Import data from CSV file\n",
    "data = pd.read_excel('churn.xlsx')"
   ]
  },
  {
   "cell_type": "code",
   "execution_count": null,
   "id": "f66d964e-6cc1-413f-826f-6ff607b482f9",
   "metadata": {},
   "outputs": [],
   "source": [
    "# Function to clean column names\n",
    "\n",
    "def column_name_remove_space(data):\n",
    "    for x in data.columns:\n",
    "        if \" \" in x:\n",
    "            data = data.rename(columns={x:x.replace(\" \",\"_\").replace(\"(\",\"\")\n",
    "                                    .replace(\")\",\"\").replace(\",\",\"_\").replace(\"/\",\"_\")})\n",
    "    return data"
   ]
  },
  {
   "cell_type": "code",
   "execution_count": null,
   "id": "4d05b6dd-3aec-42b9-b95a-ec52ade948b9",
   "metadata": {},
   "outputs": [],
   "source": [
    "# Check for null values\n",
    "data.isna().any(axis=0).any()"
   ]
  },
  {
   "cell_type": "code",
   "execution_count": null,
   "id": "1ff679b3-3885-4553-b408-fb4010a90706",
   "metadata": {},
   "outputs": [],
   "source": [
    "# Following columns have categorical data types and they need to be converted to dummy variables\n",
    "dummy_variable_columns =['GENDER','BILLING_PLATFORM','HAS_FREE_TRIAL','SUBSCRIPTION_PERIOD','BY_CAMPAIGN',\n",
    "                         'Tablet','SUBSCRIPTION_TYPE','HAS_ANY_KIDS_PROFILE_STREAMING','PRODUCT_SWITCH','IS_RECONNECT_PAID_TO_PAID','IS_RECONNECT_PAID_TO_TRIAL',\n",
    "                         'IS_RECONNECT_TRIAL_TO_PAID','IS_RECONNECT_TRIAL_TO_TRIAL','STREAM_SPORTS','STREAM_SERIES',\n",
    "                         'STREAM_MOVIES','PAYMENT_METHOD','PURCHASE_DEVICE_TYPE', 'CHURN']\n",
    "\n",
    "\n",
    "dummy_data_file_index = 0"
   ]
  },
  {
   "cell_type": "code",
   "execution_count": null,
   "id": "8eddd820",
   "metadata": {},
   "outputs": [],
   "source": [
    "#Convertin the predictor variable in a binary numeric variable\n",
    "data['CHURN'].replace(to_replace='Yes', value=1, inplace=True)\n",
    "data['CHURN'].replace(to_replace='No',  value=0, inplace=True)\n",
    "\n",
    "#Let's convert all the categorical variables into dummy variables\n",
    "df_dummies = pd.get_dummies(data)\n",
    "#df_dummies.head()"
   ]
  },
  {
   "cell_type": "code",
   "execution_count": null,
   "id": "a24530ca",
   "metadata": {},
   "outputs": [],
   "source": [
    "# We will use the data frame where we had created dummy variables\n",
    "y = df_dummies['CHURN'].values\n",
    "X = df_dummies.drop(columns = ['CHURN'])\n",
    "\n",
    "# Scaling all the variables to a range of 0 to 1\n",
    "from sklearn.preprocessing import MinMaxScaler\n",
    "features = X.columns.values\n",
    "scaler = MinMaxScaler(feature_range = (0,1))\n",
    "scaler.fit(X)\n",
    "X = pd.DataFrame(scaler.transform(X))\n",
    "X.columns = features"
   ]
  },
  {
   "cell_type": "code",
   "execution_count": null,
   "id": "4d92d53d",
   "metadata": {},
   "outputs": [],
   "source": [
    "from sklearn.ensemble import RandomForestClassifier\n",
    "from sklearn import metrics\n",
    "X_train, X_test, y_train, y_test = train_test_split(X, y, test_size=0.2, random_state=101)\n",
    "model_rf = RandomForestClassifier(n_estimators=1000 , oob_score = True, n_jobs = -1,\n",
    "                                  random_state =50, max_features = \"auto\",\n",
    "                                  max_leaf_nodes = 30)\n",
    "model_rf.fit(X_train, y_train)\n",
    "\n",
    "# Make predictions\n",
    "prediction_test = model_rf.predict(X_test)\n",
    "print (metrics.accuracy_score(y_test, prediction_test))"
   ]
  },
  {
   "cell_type": "code",
   "execution_count": null,
   "id": "97bedd1e",
   "metadata": {},
   "outputs": [],
   "source": [
    "#Importances of each variable\n",
    "importances = model_rf.feature_importances_\n",
    "\n",
    "sorted_indices = np.argsort(importances)[::-1]\n",
    " \n",
    "feat_labels = df_dummies.columns[1:]\n",
    " \n",
    "for f in range(X_train.shape[1]):\n",
    "    print(\"%2d) %-*s %f\" % (f + 1, 30,\n",
    "                            feat_labels[sorted_indices[f]],\n",
    "                            importances[sorted_indices[f]]))"
   ]
  },
  {
   "cell_type": "markdown",
   "id": "cca782b4",
   "metadata": {},
   "source": [
    "Análisis Adicionales"
   ]
  },
  {
   "cell_type": "code",
   "execution_count": null,
   "id": "f1f35636",
   "metadata": {},
   "outputs": [],
   "source": [
    "importances = model_rf.feature_importances_\n",
    "weights = pd.Series(importances,\n",
    "                 index=X.columns.values)\n",
    "weights.sort_values()[-10:].plot(kind = 'barh')"
   ]
  },
  {
   "cell_type": "code",
   "execution_count": null,
   "id": "d334f0bc",
   "metadata": {},
   "outputs": [],
   "source": [
    "mse = mean_squared_error(y_test, prediction_test)\n",
    "mse"
   ]
  },
  {
   "cell_type": "code",
   "execution_count": null,
   "id": "12a6d0e3",
   "metadata": {},
   "outputs": [],
   "source": [
    "test_score = r2_score(y_test, prediction_test)\n",
    "spearman = spearmanr(y_test, prediction_test)\n",
    "pearson = pearsonr(y_test, prediction_test)\n",
    "\n",
    "print(f'Out-of-bag R-2 score estimate: {model_rf.oob_score_:>5.3}')    #QUE CHORINGA ES ESTO!!!!\n",
    "print(f'Test data R-2 score: {test_score:>5.3}')\n",
    "print(f'Test data Spearman correlation: {spearman[0]:.3}')\n",
    "print(f'Test data Pearson correlation: {pearson[0]:.3}')"
   ]
  }
 ],
 "metadata": {
  "kernelspec": {
   "display_name": "Python 3.9.7 64-bit (system)",
   "language": "python",
   "name": "python3"
  },
  "language_info": {
   "codemirror_mode": {
    "name": "ipython",
    "version": 3
   },
   "file_extension": ".py",
   "mimetype": "text/x-python",
   "name": "python",
   "nbconvert_exporter": "python",
   "pygments_lexer": "ipython3",
   "version": "3.9.7"
  },
  "vscode": {
   "interpreter": {
    "hash": "5e23deaf657df8da0481726d5faa78805c0039777840256ed40762b1c99e2ca9"
   }
  }
 },
 "nbformat": 4,
 "nbformat_minor": 5
}
